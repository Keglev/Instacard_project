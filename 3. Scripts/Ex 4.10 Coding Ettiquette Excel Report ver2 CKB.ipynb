{
 "cells": [
  {
   "cell_type": "markdown",
   "id": "d3b91e64",
   "metadata": {},
   "source": [
    "# 01 Import Libraries"
   ]
  },
  {
   "cell_type": "code",
   "execution_count": 1,
   "id": "7985ad53",
   "metadata": {},
   "outputs": [],
   "source": [
    "#Import libraries\n",
    "import pandas as pd\n",
    "import numpy as np\n",
    "import os\n",
    "import matplotlib.pyplot as plt\n",
    "import seaborn as sns\n",
    "import scipy"
   ]
  },
  {
   "cell_type": "markdown",
   "id": "946a8c36",
   "metadata": {},
   "source": [
    "# 02 Importing Data"
   ]
  },
  {
   "cell_type": "code",
   "execution_count": 2,
   "id": "e187d63c",
   "metadata": {},
   "outputs": [],
   "source": [
    "#Define path\n",
    "path =  r'/Users/carlo/21-06-2022 Instacart Basket Analysis'"
   ]
  },
  {
   "cell_type": "code",
   "execution_count": 3,
   "id": "5a33352a",
   "metadata": {},
   "outputs": [],
   "source": [
    "# Import data\n",
    "\n",
    "orders_products_customers = pd.read_pickle(os.path.join(path, '2. Data', 'Prepared Data', 'ex49full_merge.pkl'))"
   ]
  },
  {
   "cell_type": "markdown",
   "id": "a0876997",
   "metadata": {},
   "source": [
    "# 03 check for Security Concerns"
   ]
  },
  {
   "cell_type": "code",
   "execution_count": 4,
   "id": "093a1725",
   "metadata": {},
   "outputs": [
    {
     "data": {
      "text/plain": [
       "(32404859, 33)"
      ]
     },
     "execution_count": 4,
     "metadata": {},
     "output_type": "execute_result"
    }
   ],
   "source": [
    "orders_products_customers.shape"
   ]
  },
  {
   "cell_type": "code",
   "execution_count": 5,
   "id": "7d83c7a5",
   "metadata": {},
   "outputs": [
    {
     "data": {
      "text/html": [
       "<div>\n",
       "<style scoped>\n",
       "    .dataframe tbody tr th:only-of-type {\n",
       "        vertical-align: middle;\n",
       "    }\n",
       "\n",
       "    .dataframe tbody tr th {\n",
       "        vertical-align: top;\n",
       "    }\n",
       "\n",
       "    .dataframe thead th {\n",
       "        text-align: right;\n",
       "    }\n",
       "</style>\n",
       "<table border=\"1\" class=\"dataframe\">\n",
       "  <thead>\n",
       "    <tr style=\"text-align: right;\">\n",
       "      <th></th>\n",
       "      <th>user_id</th>\n",
       "      <th>first_name</th>\n",
       "      <th>surname</th>\n",
       "      <th>gender</th>\n",
       "      <th>state</th>\n",
       "      <th>age</th>\n",
       "      <th>date_joined</th>\n",
       "      <th>number_of_dependants</th>\n",
       "      <th>family_status</th>\n",
       "      <th>income</th>\n",
       "      <th>...</th>\n",
       "      <th>busiest_day</th>\n",
       "      <th>busiest_days</th>\n",
       "      <th>busiest_period_of_day</th>\n",
       "      <th>max_order</th>\n",
       "      <th>loyalty_flag</th>\n",
       "      <th>mean_spending</th>\n",
       "      <th>spender_flag</th>\n",
       "      <th>order_frequency</th>\n",
       "      <th>frequency_flag</th>\n",
       "      <th>_merge</th>\n",
       "    </tr>\n",
       "  </thead>\n",
       "  <tbody>\n",
       "    <tr>\n",
       "      <th>0</th>\n",
       "      <td>26711</td>\n",
       "      <td>Deborah</td>\n",
       "      <td>Esquivel</td>\n",
       "      <td>Female</td>\n",
       "      <td>Missouri</td>\n",
       "      <td>48</td>\n",
       "      <td>1/1/2017</td>\n",
       "      <td>3</td>\n",
       "      <td>married</td>\n",
       "      <td>165665</td>\n",
       "      <td>...</td>\n",
       "      <td>Regularly busy</td>\n",
       "      <td>Busiest days</td>\n",
       "      <td>Most orders</td>\n",
       "      <td>8</td>\n",
       "      <td>New customer</td>\n",
       "      <td>7.988281</td>\n",
       "      <td>Low spender</td>\n",
       "      <td>19.0</td>\n",
       "      <td>Regular customer</td>\n",
       "      <td>both</td>\n",
       "    </tr>\n",
       "    <tr>\n",
       "      <th>1</th>\n",
       "      <td>26711</td>\n",
       "      <td>Deborah</td>\n",
       "      <td>Esquivel</td>\n",
       "      <td>Female</td>\n",
       "      <td>Missouri</td>\n",
       "      <td>48</td>\n",
       "      <td>1/1/2017</td>\n",
       "      <td>3</td>\n",
       "      <td>married</td>\n",
       "      <td>165665</td>\n",
       "      <td>...</td>\n",
       "      <td>Regularly busy</td>\n",
       "      <td>Regularly busy</td>\n",
       "      <td>Most orders</td>\n",
       "      <td>8</td>\n",
       "      <td>New customer</td>\n",
       "      <td>7.988281</td>\n",
       "      <td>Low spender</td>\n",
       "      <td>19.0</td>\n",
       "      <td>Regular customer</td>\n",
       "      <td>both</td>\n",
       "    </tr>\n",
       "    <tr>\n",
       "      <th>2</th>\n",
       "      <td>26711</td>\n",
       "      <td>Deborah</td>\n",
       "      <td>Esquivel</td>\n",
       "      <td>Female</td>\n",
       "      <td>Missouri</td>\n",
       "      <td>48</td>\n",
       "      <td>1/1/2017</td>\n",
       "      <td>3</td>\n",
       "      <td>married</td>\n",
       "      <td>165665</td>\n",
       "      <td>...</td>\n",
       "      <td>Regularly busy</td>\n",
       "      <td>Busiest days</td>\n",
       "      <td>Most orders</td>\n",
       "      <td>8</td>\n",
       "      <td>New customer</td>\n",
       "      <td>7.988281</td>\n",
       "      <td>Low spender</td>\n",
       "      <td>19.0</td>\n",
       "      <td>Regular customer</td>\n",
       "      <td>both</td>\n",
       "    </tr>\n",
       "    <tr>\n",
       "      <th>3</th>\n",
       "      <td>26711</td>\n",
       "      <td>Deborah</td>\n",
       "      <td>Esquivel</td>\n",
       "      <td>Female</td>\n",
       "      <td>Missouri</td>\n",
       "      <td>48</td>\n",
       "      <td>1/1/2017</td>\n",
       "      <td>3</td>\n",
       "      <td>married</td>\n",
       "      <td>165665</td>\n",
       "      <td>...</td>\n",
       "      <td>Regularly busy</td>\n",
       "      <td>Regularly busy</td>\n",
       "      <td>Most orders</td>\n",
       "      <td>8</td>\n",
       "      <td>New customer</td>\n",
       "      <td>7.988281</td>\n",
       "      <td>Low spender</td>\n",
       "      <td>19.0</td>\n",
       "      <td>Regular customer</td>\n",
       "      <td>both</td>\n",
       "    </tr>\n",
       "    <tr>\n",
       "      <th>4</th>\n",
       "      <td>26711</td>\n",
       "      <td>Deborah</td>\n",
       "      <td>Esquivel</td>\n",
       "      <td>Female</td>\n",
       "      <td>Missouri</td>\n",
       "      <td>48</td>\n",
       "      <td>1/1/2017</td>\n",
       "      <td>3</td>\n",
       "      <td>married</td>\n",
       "      <td>165665</td>\n",
       "      <td>...</td>\n",
       "      <td>Regularly busy</td>\n",
       "      <td>Least busy days</td>\n",
       "      <td>Most orders</td>\n",
       "      <td>8</td>\n",
       "      <td>New customer</td>\n",
       "      <td>7.988281</td>\n",
       "      <td>Low spender</td>\n",
       "      <td>19.0</td>\n",
       "      <td>Regular customer</td>\n",
       "      <td>both</td>\n",
       "    </tr>\n",
       "  </tbody>\n",
       "</table>\n",
       "<p>5 rows × 33 columns</p>\n",
       "</div>"
      ],
      "text/plain": [
       "   user_id first_name   surname  gender     state  age date_joined  \\\n",
       "0    26711    Deborah  Esquivel  Female  Missouri   48    1/1/2017   \n",
       "1    26711    Deborah  Esquivel  Female  Missouri   48    1/1/2017   \n",
       "2    26711    Deborah  Esquivel  Female  Missouri   48    1/1/2017   \n",
       "3    26711    Deborah  Esquivel  Female  Missouri   48    1/1/2017   \n",
       "4    26711    Deborah  Esquivel  Female  Missouri   48    1/1/2017   \n",
       "\n",
       "   number_of_dependants family_status  income  ...     busiest_day  \\\n",
       "0                     3       married  165665  ...  Regularly busy   \n",
       "1                     3       married  165665  ...  Regularly busy   \n",
       "2                     3       married  165665  ...  Regularly busy   \n",
       "3                     3       married  165665  ...  Regularly busy   \n",
       "4                     3       married  165665  ...  Regularly busy   \n",
       "\n",
       "      busiest_days  busiest_period_of_day  max_order  loyalty_flag  \\\n",
       "0     Busiest days            Most orders          8  New customer   \n",
       "1   Regularly busy            Most orders          8  New customer   \n",
       "2     Busiest days            Most orders          8  New customer   \n",
       "3   Regularly busy            Most orders          8  New customer   \n",
       "4  Least busy days            Most orders          8  New customer   \n",
       "\n",
       "   mean_spending  spender_flag  order_frequency    frequency_flag  _merge  \n",
       "0       7.988281   Low spender             19.0  Regular customer    both  \n",
       "1       7.988281   Low spender             19.0  Regular customer    both  \n",
       "2       7.988281   Low spender             19.0  Regular customer    both  \n",
       "3       7.988281   Low spender             19.0  Regular customer    both  \n",
       "4       7.988281   Low spender             19.0  Regular customer    both  \n",
       "\n",
       "[5 rows x 33 columns]"
      ]
     },
     "execution_count": 5,
     "metadata": {},
     "output_type": "execute_result"
    }
   ],
   "source": [
    "orders_products_customers.head()"
   ]
  },
  {
   "cell_type": "markdown",
   "id": "90576be2",
   "metadata": {},
   "source": [
    "# The columns \"first_name\" and \"last_name\" need to be droped out because they contem personal info and they are not relevant to the analysis."
   ]
  },
  {
   "cell_type": "code",
   "execution_count": 6,
   "id": "6382528e",
   "metadata": {},
   "outputs": [],
   "source": [
    "#Dropping customer name variables\n",
    "orders_products_customers = orders_products_customers.drop(columns = ['first_name', 'surname'])"
   ]
  },
  {
   "cell_type": "markdown",
   "id": "04223a07",
   "metadata": {},
   "source": [
    "# 04 Defining Region variable"
   ]
  },
  {
   "cell_type": "code",
   "execution_count": 7,
   "id": "5aa602b1",
   "metadata": {},
   "outputs": [
    {
     "data": {
      "text/plain": [
       "Pennsylvania            667082\n",
       "California              659783\n",
       "Rhode Island            656913\n",
       "Georgia                 656389\n",
       "New Mexico              654494\n",
       "Arizona                 653964\n",
       "North Carolina          651900\n",
       "Oklahoma                651739\n",
       "Alaska                  648495\n",
       "Minnesota               647825\n",
       "Massachusetts           646358\n",
       "Wyoming                 644255\n",
       "Virginia                641421\n",
       "Missouri                640732\n",
       "Texas                   640394\n",
       "Colorado                639280\n",
       "Maine                   638583\n",
       "North Dakota            638491\n",
       "Alabama                 638003\n",
       "Kansas                  637538\n",
       "Louisiana               637482\n",
       "Delaware                637024\n",
       "South Carolina          636754\n",
       "Oregon                  636425\n",
       "Arkansas                636144\n",
       "Nevada                  636139\n",
       "New York                635983\n",
       "Montana                 635265\n",
       "South Dakota            633772\n",
       "Illinois                633024\n",
       "Hawaii                  632901\n",
       "Washington              632852\n",
       "Mississippi             632675\n",
       "Kentucky                632490\n",
       "Michigan                630928\n",
       "Florida                 629027\n",
       "Ohio                    628319\n",
       "Wisconsin               628108\n",
       "New Jersey              627692\n",
       "Indiana                 627282\n",
       "Maryland                626579\n",
       "Nebraska                625813\n",
       "Iowa                    625493\n",
       "Connecticut             623022\n",
       "Tennessee               617873\n",
       "New Hampshire           615378\n",
       "District of Columbia    613695\n",
       "West Virginia           612296\n",
       "Utah                    611941\n",
       "Vermont                 611725\n",
       "Idaho                   607119\n",
       "Name: state, dtype: int64"
      ]
     },
     "execution_count": 7,
     "metadata": {},
     "output_type": "execute_result"
    }
   ],
   "source": [
    "# View state counts in dataframe\n",
    "orders_products_customers['state'].value_counts(dropna = False)"
   ]
  },
  {
   "cell_type": "code",
   "execution_count": 8,
   "id": "916458d8",
   "metadata": {},
   "outputs": [],
   "source": [
    "#Creating region variable using a loop\n",
    "result = []\n",
    "\n",
    "for value in orders_products_customers['state']:\n",
    "    if value == \"Maine\":\n",
    "        result.append(\"Northeast\")\n",
    "    elif value == \"New Hampshire\":\n",
    "        result.append(\"Northeast\")\n",
    "    elif value == \"Vermont\":\n",
    "        result.append(\"Northeast\")\n",
    "    elif value == \"Massachusetts\":\n",
    "        result.append(\"Northeast\")\n",
    "    elif value == \"Rhode Island\":\n",
    "        result.append(\"Northeast\")\n",
    "    elif value == \"Connecticut\":\n",
    "        result.append(\"Northeast\")\n",
    "    elif value == \"New York\":\n",
    "        result.append(\"Northeast\")\n",
    "    elif value == \"Pennsulvania\":\n",
    "        result.append(\"Northeast\")\n",
    "    elif value == \"New Jersey\":\n",
    "        result.append(\"Northeast\")\n",
    "    elif value == \"Wisconsin\":\n",
    "        result.append(\"Midwest\")\n",
    "    elif value == \"Michigan\":\n",
    "        result.append(\"Midwest\")\n",
    "    elif value == \"Illinois\":\n",
    "        result.append(\"Midwest\")\n",
    "    elif value == \"Indiana\":\n",
    "        result.append(\"Midwest\")\n",
    "    elif value == \"Ohio\":\n",
    "        result.append(\"Midwest\")\n",
    "    elif value == \"North Dakota\":\n",
    "        result.append(\"Midwest\")\n",
    "    elif value == \"South Dakota\":\n",
    "        result.append(\"Midwest\")\n",
    "    elif value == \"Nebraska\":\n",
    "        result.append(\"Midwest\")\n",
    "    elif value == \"Kansas\":\n",
    "        result.append(\"Midwest\")\n",
    "    elif value == \"Minnesota\" :\n",
    "        result.append(\"Midwest\")\n",
    "    elif value == \"Iowa\":\n",
    "        result.append(\"Midwest\")\n",
    "    elif value == \"Missouri\":\n",
    "        result.append(\"Midwest\")\n",
    "    elif value == \"Idaho\":\n",
    "        result.append(\"West\")\n",
    "    elif value == \"Montana\":\n",
    "        result.append(\"West\")\n",
    "    elif value == \"Wyoming\":\n",
    "        result.append(\"West\")\n",
    "    elif value == \"Nevada\":\n",
    "        result.append(\"West\")\n",
    "    elif value == \"Utah\":\n",
    "        result.append(\"West\")\n",
    "    elif value == \"Colorado\":\n",
    "        result.append(\"West\")\n",
    "    elif value == \"Arizona\":\n",
    "        result.append(\"West\")\n",
    "    elif value == \"New Mexico\":\n",
    "        result.append(\"West\")\n",
    "    elif value == \"Alaska\":\n",
    "        result.append(\"West\")\n",
    "    elif value == \"Washington\":\n",
    "        result.append(\"West\")\n",
    "    elif value == \"Oregon\":\n",
    "        result.append(\"West\")\n",
    "    elif value == \"California\":\n",
    "        result.append(\"West\")\n",
    "    elif value == \"Hawaii\":\n",
    "        result.append(\"West\")\n",
    "    else:\n",
    "        result.append(\"South\")"
   ]
  },
  {
   "cell_type": "code",
   "execution_count": 9,
   "id": "258e6571",
   "metadata": {},
   "outputs": [],
   "source": [
    "orders_products_customers['region'] = result"
   ]
  },
  {
   "cell_type": "code",
   "execution_count": 10,
   "id": "dbff57e7",
   "metadata": {},
   "outputs": [
    {
     "data": {
      "text/plain": [
       "South        11458967\n",
       "West          8292913\n",
       "Midwest       7597325\n",
       "Northeast     5055654\n",
       "Name: region, dtype: int64"
      ]
     },
     "execution_count": 10,
     "metadata": {},
     "output_type": "execute_result"
    }
   ],
   "source": [
    "orders_products_customers['region'].value_counts(dropna = False)"
   ]
  },
  {
   "cell_type": "markdown",
   "id": "718664d8",
   "metadata": {},
   "source": [
    "# 05 Regional Spending Habits"
   ]
  },
  {
   "cell_type": "code",
   "execution_count": 11,
   "id": "788ad08d",
   "metadata": {},
   "outputs": [],
   "source": [
    "crosstab = pd.crosstab(orders_products_customers['region'], orders_products_customers['spender_flag'], dropna = False)"
   ]
  },
  {
   "cell_type": "code",
   "execution_count": 12,
   "id": "42224e32",
   "metadata": {},
   "outputs": [],
   "source": [
    "crosstab.to_clipboard()"
   ]
  },
  {
   "cell_type": "markdown",
   "id": "4bdecae0",
   "metadata": {},
   "source": [
    "# spending habits are similar accross the regions. about 99% are low spenders"
   ]
  },
  {
   "cell_type": "markdown",
   "id": "2815dadd",
   "metadata": {},
   "source": [
    "# 06 Low Activity Customers"
   ]
  },
  {
   "cell_type": "code",
   "execution_count": 13,
   "id": "218e61f6",
   "metadata": {},
   "outputs": [],
   "source": [
    "#Adding spending flags\n",
    "orders_products_customers.loc[orders_products_customers['max_order'] < 5, 'activity_flag'] = 'Low activity'"
   ]
  },
  {
   "cell_type": "code",
   "execution_count": 14,
   "id": "e78f6d4f",
   "metadata": {},
   "outputs": [],
   "source": [
    "orders_products_customers.loc[orders_products_customers['max_order'] >= 5, 'activity_flag'] = 'High activity'"
   ]
  },
  {
   "cell_type": "code",
   "execution_count": 15,
   "id": "cd55b934",
   "metadata": {},
   "outputs": [
    {
     "data": {
      "text/plain": [
       "High activity    30964564\n",
       "Low activity      1440295\n",
       "Name: activity_flag, dtype: int64"
      ]
     },
     "execution_count": 15,
     "metadata": {},
     "output_type": "execute_result"
    }
   ],
   "source": [
    "orders_products_customers['activity_flag'].value_counts(dropna = False)"
   ]
  },
  {
   "cell_type": "code",
   "execution_count": 16,
   "id": "05e11ffa",
   "metadata": {},
   "outputs": [],
   "source": [
    "#creating subset\n",
    "subset_high_activity = orders_products_customers[orders_products_customers['activity_flag']==\"High activity\"]"
   ]
  },
  {
   "cell_type": "code",
   "execution_count": 17,
   "id": "11661685",
   "metadata": {},
   "outputs": [
    {
     "data": {
      "text/plain": [
       "(30964564, 33)"
      ]
     },
     "execution_count": 17,
     "metadata": {},
     "output_type": "execute_result"
    }
   ],
   "source": [
    "subset_high_activity.shape"
   ]
  },
  {
   "cell_type": "code",
   "execution_count": 18,
   "id": "adfa170f",
   "metadata": {},
   "outputs": [],
   "source": [
    "subset_high_activity.to_pickle(os.path.join(path, '2. Data', 'Prepared Data', 'orders_products_customers_subset_activity.pkl'))"
   ]
  },
  {
   "cell_type": "markdown",
   "id": "2a85ac0a",
   "metadata": {},
   "source": [
    "# 07 Profiling the data"
   ]
  },
  {
   "cell_type": "code",
   "execution_count": 19,
   "id": "67b21b3e",
   "metadata": {},
   "outputs": [],
   "source": [
    "#Single adults\n",
    "#age > 18, number_of_dependents = 0\n",
    "orders_products_customers.loc[(orders_products_customers['age'] > 18) & (orders_products_customers['number_of_dependants'] == 0), 'profile'] = \"Single adult\""
   ]
  },
  {
   "cell_type": "code",
   "execution_count": 20,
   "id": "d7871161",
   "metadata": {},
   "outputs": [],
   "source": [
    "pd.set_option('display.float_format', lambda x: '%.3f' % x)"
   ]
  },
  {
   "cell_type": "code",
   "execution_count": 21,
   "id": "c8692a5d",
   "metadata": {},
   "outputs": [
    {
     "data": {
      "text/plain": [
       "count   32404859.000\n",
       "mean       99437.733\n",
       "std        43057.273\n",
       "min        25903.000\n",
       "25%        67004.000\n",
       "50%        96618.000\n",
       "75%       127912.000\n",
       "max       593901.000\n",
       "Name: income, dtype: float64"
      ]
     },
     "execution_count": 21,
     "metadata": {},
     "output_type": "execute_result"
    }
   ],
   "source": [
    "orders_products_customers['income'].describe()"
   ]
  },
  {
   "cell_type": "code",
   "execution_count": 22,
   "id": "dd0ac301",
   "metadata": {},
   "outputs": [],
   "source": [
    "#Low income family\n",
    "#income < 67000, family_status = \"Married\"\n",
    "orders_products_customers.loc[(orders_products_customers['income']<=67000) & (orders_products_customers['family_status'] == \"married\"), 'profile'] = \"Low Income Family\""
   ]
  },
  {
   "cell_type": "code",
   "execution_count": 23,
   "id": "9a212f8e",
   "metadata": {},
   "outputs": [],
   "source": [
    "#Young parents\n",
    "#30 > age > 22, number_of_dependants > 0, department_id = 18\n",
    "orders_products_customers.loc[(orders_products_customers['age'] > 21) & (orders_products_customers['age'] <= 30) & (orders_products_customers['number_of_dependants'] >= 1) & (orders_products_customers['department_id'] == 18) , 'profile'] = \"Young parent\""
   ]
  },
  {
   "cell_type": "code",
   "execution_count": 24,
   "id": "47462fad",
   "metadata": {},
   "outputs": [],
   "source": [
    "#High income single adults\n",
    "#income > 130000, number_of_dependants = 0\n",
    "orders_products_customers.loc[(orders_products_customers['income']>=130000) & (orders_products_customers['number_of_dependants']==0), 'profile'] = \"High income single adult\""
   ]
  },
  {
   "cell_type": "code",
   "execution_count": 25,
   "id": "89898ea8",
   "metadata": {},
   "outputs": [
    {
     "data": {
      "text/plain": [
       "NaN                         19021006\n",
       "Single adult                 6020195\n",
       "Low Income Family            5366749\n",
       "High income single adult     1953164\n",
       "Young parent                   43745\n",
       "Name: profile, dtype: int64"
      ]
     },
     "execution_count": 25,
     "metadata": {},
     "output_type": "execute_result"
    }
   ],
   "source": [
    "orders_products_customers['profile'].value_counts(dropna = False)"
   ]
  },
  {
   "cell_type": "code",
   "execution_count": 26,
   "id": "670bdfe7",
   "metadata": {},
   "outputs": [],
   "source": [
    "#I have used the this source to define income groups: https://money.usnews.com/money/personal-finance/family-finance/articles/where-do-i-fall-in-the-american-economic-class-system"
   ]
  },
  {
   "cell_type": "markdown",
   "id": "430cdf89",
   "metadata": {},
   "source": [
    "# 08 Profile Distribution"
   ]
  },
  {
   "cell_type": "code",
   "execution_count": 27,
   "id": "06207d4a",
   "metadata": {},
   "outputs": [
    {
     "data": {
      "image/png": "[encoded data removed]",
      "text/plain": [
       "<Figure size 432x288 with 1 Axes>"
      ]
     },
     "metadata": {
      "needs_background": "light"
     },
     "output_type": "display_data"
    }
   ],
   "source": [
    "#Bar chart\n",
    "bar = orders_products_customers['profile'].value_counts().sort_index().plot.bar()"
   ]
  },
  {
   "cell_type": "code",
   "execution_count": 28,
   "id": "30e579ce",
   "metadata": {},
   "outputs": [],
   "source": [
    "bar.figure.savefig(os.path.join(path, '4. Analysis', 'bar_profile.png'))"
   ]
  },
  {
   "cell_type": "markdown",
   "id": "81cbb614",
   "metadata": {},
   "source": [
    "# 09 Description Profile"
   ]
  },
  {
   "cell_type": "code",
   "execution_count": 29,
   "id": "ee3d49cd",
   "metadata": {},
   "outputs": [],
   "source": [
    "#Spending\n",
    "orders_products_customers['spending'] = orders_products_customers.groupby(['user_id'])['prices'].transform(np.sum)"
   ]
  },
  {
   "cell_type": "code",
   "execution_count": 30,
   "id": "28f59f33",
   "metadata": {},
   "outputs": [
    {
     "data": {
      "text/html": [
       "<div>\n",
       "<style scoped>\n",
       "    .dataframe tbody tr th:only-of-type {\n",
       "        vertical-align: middle;\n",
       "    }\n",
       "\n",
       "    .dataframe tbody tr th {\n",
       "        vertical-align: top;\n",
       "    }\n",
       "\n",
       "    .dataframe thead tr th {\n",
       "        text-align: left;\n",
       "    }\n",
       "\n",
       "    .dataframe thead tr:last-of-type th {\n",
       "        text-align: right;\n",
       "    }\n",
       "</style>\n",
       "<table border=\"1\" class=\"dataframe\">\n",
       "  <thead>\n",
       "    <tr>\n",
       "      <th></th>\n",
       "      <th colspan=\"3\" halign=\"left\">spending</th>\n",
       "    </tr>\n",
       "    <tr>\n",
       "      <th></th>\n",
       "      <th>mean</th>\n",
       "      <th>min</th>\n",
       "      <th>max</th>\n",
       "    </tr>\n",
       "    <tr>\n",
       "      <th>profile</th>\n",
       "      <th></th>\n",
       "      <th></th>\n",
       "      <th></th>\n",
       "    </tr>\n",
       "  </thead>\n",
       "  <tbody>\n",
       "    <tr>\n",
       "      <th>High income single adult</th>\n",
       "      <td>3478.744</td>\n",
       "      <td>13.100</td>\n",
       "      <td>22595.500</td>\n",
       "    </tr>\n",
       "    <tr>\n",
       "      <th>Low Income Family</th>\n",
       "      <td>2869.096</td>\n",
       "      <td>3.000</td>\n",
       "      <td>18910.000</td>\n",
       "    </tr>\n",
       "    <tr>\n",
       "      <th>Single adult</th>\n",
       "      <td>3230.907</td>\n",
       "      <td>3.000</td>\n",
       "      <td>24307.100</td>\n",
       "    </tr>\n",
       "    <tr>\n",
       "      <th>Young parent</th>\n",
       "      <td>4498.927</td>\n",
       "      <td>59.200</td>\n",
       "      <td>18436.900</td>\n",
       "    </tr>\n",
       "  </tbody>\n",
       "</table>\n",
       "</div>"
      ],
      "text/plain": [
       "                         spending                 \n",
       "                             mean    min       max\n",
       "profile                                           \n",
       "High income single adult 3478.744 13.100 22595.500\n",
       "Low Income Family        2869.096  3.000 18910.000\n",
       "Single adult             3230.907  3.000 24307.100\n",
       "Young parent             4498.927 59.200 18436.900"
      ]
     },
     "execution_count": 30,
     "metadata": {},
     "output_type": "execute_result"
    }
   ],
   "source": [
    "#Group for spending\n",
    "orders_products_customers.groupby('profile').agg({'spending': ['mean', 'min', 'max']})"
   ]
  },
  {
   "cell_type": "code",
   "execution_count": 31,
   "id": "8fb07766",
   "metadata": {},
   "outputs": [
    {
     "data": {
      "text/html": [
       "<div>\n",
       "<style scoped>\n",
       "    .dataframe tbody tr th:only-of-type {\n",
       "        vertical-align: middle;\n",
       "    }\n",
       "\n",
       "    .dataframe tbody tr th {\n",
       "        vertical-align: top;\n",
       "    }\n",
       "\n",
       "    .dataframe thead tr th {\n",
       "        text-align: left;\n",
       "    }\n",
       "\n",
       "    .dataframe thead tr:last-of-type th {\n",
       "        text-align: right;\n",
       "    }\n",
       "</style>\n",
       "<table border=\"1\" class=\"dataframe\">\n",
       "  <thead>\n",
       "    <tr>\n",
       "      <th></th>\n",
       "      <th colspan=\"3\" halign=\"left\">order_frequency</th>\n",
       "    </tr>\n",
       "    <tr>\n",
       "      <th></th>\n",
       "      <th>mean</th>\n",
       "      <th>min</th>\n",
       "      <th>max</th>\n",
       "    </tr>\n",
       "    <tr>\n",
       "      <th>profile</th>\n",
       "      <th></th>\n",
       "      <th></th>\n",
       "      <th></th>\n",
       "    </tr>\n",
       "  </thead>\n",
       "  <tbody>\n",
       "    <tr>\n",
       "      <th>High income single adult</th>\n",
       "      <td>10.156</td>\n",
       "      <td>0.000</td>\n",
       "      <td>30.000</td>\n",
       "    </tr>\n",
       "    <tr>\n",
       "      <th>Low Income Family</th>\n",
       "      <td>10.766</td>\n",
       "      <td>0.000</td>\n",
       "      <td>30.000</td>\n",
       "    </tr>\n",
       "    <tr>\n",
       "      <th>Single adult</th>\n",
       "      <td>10.430</td>\n",
       "      <td>0.000</td>\n",
       "      <td>30.000</td>\n",
       "    </tr>\n",
       "    <tr>\n",
       "      <th>Young parent</th>\n",
       "      <td>9.133</td>\n",
       "      <td>0.000</td>\n",
       "      <td>30.000</td>\n",
       "    </tr>\n",
       "  </tbody>\n",
       "</table>\n",
       "</div>"
      ],
      "text/plain": [
       "                         order_frequency             \n",
       "                                    mean   min    max\n",
       "profile                                              \n",
       "High income single adult          10.156 0.000 30.000\n",
       "Low Income Family                 10.766 0.000 30.000\n",
       "Single adult                      10.430 0.000 30.000\n",
       "Young parent                       9.133 0.000 30.000"
      ]
     },
     "execution_count": 31,
     "metadata": {},
     "output_type": "execute_result"
    }
   ],
   "source": [
    "#Group for frequency\n",
    "orders_products_customers.groupby('profile').agg({'order_frequency': ['mean', 'min', 'max']})"
   ]
  },
  {
   "cell_type": "markdown",
   "id": "4891a0fa",
   "metadata": {},
   "source": [
    "# 10. Profile Accross Regions"
   ]
  },
  {
   "cell_type": "code",
   "execution_count": 32,
   "id": "42fe2916",
   "metadata": {},
   "outputs": [],
   "source": [
    "ct_region_profiles = pd.crosstab(orders_products_customers['region'], orders_products_customers['profile'], dropna = False)"
   ]
  },
  {
   "cell_type": "code",
   "execution_count": 33,
   "id": "734baae2",
   "metadata": {},
   "outputs": [
    {
     "data": {
      "image/png": "[encoded data removed]",
      "text/plain": [
       "<Figure size 432x288 with 1 Axes>"
      ]
     },
     "metadata": {
      "needs_background": "light"
     },
     "output_type": "display_data"
    }
   ],
   "source": [
    "reg_profile_bar = ct_region_profiles.plot(kind='bar', stacked=True,\n",
    "        title='Customer profiles by region')"
   ]
  },
  {
   "cell_type": "code",
   "execution_count": 34,
   "id": "16ab5393",
   "metadata": {},
   "outputs": [],
   "source": [
    "reg_profile_bar.figure.savefig(os.path.join(path, '4. Analysis', 'bar_region_profile.png'))"
   ]
  },
  {
   "cell_type": "markdown",
   "id": "b8fca740",
   "metadata": {},
   "source": [
    "# 11. Profile accross departments"
   ]
  },
  {
   "cell_type": "code",
   "execution_count": 35,
   "id": "2e5cdb3e",
   "metadata": {},
   "outputs": [],
   "source": [
    "ct_dep_profiles = pd.crosstab(orders_products_customers['department_id'], orders_products_customers['profile'], dropna = False)"
   ]
  },
  {
   "cell_type": "code",
   "execution_count": 36,
   "id": "5caff376",
   "metadata": {},
   "outputs": [
    {
     "data": {
      "image/png": "[encoded data removed]",
      "text/plain": [
       "<Figure size 432x288 with 1 Axes>"
      ]
     },
     "metadata": {
      "needs_background": "light"
     },
     "output_type": "display_data"
    }
   ],
   "source": [
    "dep_profile_bar = ct_dep_profiles.plot(kind='bar', stacked=True,\n",
    "        title='Customer profiles by department')"
   ]
  },
  {
   "cell_type": "code",
   "execution_count": 37,
   "id": "65965366",
   "metadata": {},
   "outputs": [],
   "source": [
    "dep_profile_bar.figure.savefig(os.path.join(path, '4. Analysis', 'bar_dep_profile.png'))"
   ]
  },
  {
   "cell_type": "markdown",
   "id": "84fe2be2",
   "metadata": {},
   "source": [
    "# 12. Save Data"
   ]
  },
  {
   "cell_type": "code",
   "execution_count": 38,
   "id": "6853fad7",
   "metadata": {},
   "outputs": [],
   "source": [
    "# Export data to pkl\n",
    "orders_products_customers.to_pickle(os.path.join(path, '2. Data','Prepared Data', 'orders_products_together.pkl'))"
   ]
  },
  {
   "cell_type": "markdown",
   "id": "aac8537f",
   "metadata": {},
   "source": [
    "# Data Saved and now defining a new function with the saved data. Path already defined"
   ]
  },
  {
   "cell_type": "code",
   "execution_count": 39,
   "id": "4b40993a",
   "metadata": {},
   "outputs": [],
   "source": [
    "# Import data\n",
    "\n",
    "orders_products_together = pd.read_pickle(os.path.join(path, '2. Data', 'Prepared Data','orders_products_together.pkl'))"
   ]
  },
  {
   "cell_type": "markdown",
   "id": "c0c4b8cc",
   "metadata": {},
   "source": [
    "# 13. Data Overview"
   ]
  },
  {
   "cell_type": "code",
   "execution_count": 40,
   "id": "6f4251fc",
   "metadata": {},
   "outputs": [
    {
     "data": {
      "text/plain": [
       "(32404859, 35)"
      ]
     },
     "execution_count": 40,
     "metadata": {},
     "output_type": "execute_result"
    }
   ],
   "source": [
    "#df overview\n",
    "orders_products_together.shape"
   ]
  },
  {
   "cell_type": "code",
   "execution_count": 41,
   "id": "9b19d6a1",
   "metadata": {},
   "outputs": [
    {
     "data": {
      "text/plain": [
       "Index(['user_id', 'gender', 'state', 'age', 'date_joined',\n",
       "       'number_of_dependants', 'family_status', 'income', 'order_id',\n",
       "       'order_number', 'orders_day_of_week', 'order_hour_of_day',\n",
       "       'days_since_last_order', 'product_id', 'add_to_cart_order', 'reordered',\n",
       "       'product_name', 'aisle_id', 'department_id', 'prices', 'price_range',\n",
       "       'busiest_day', 'busiest_days', 'busiest_period_of_day', 'max_order',\n",
       "       'loyalty_flag', 'mean_spending', 'spender_flag', 'order_frequency',\n",
       "       'frequency_flag', '_merge', 'region', 'activity_flag', 'profile',\n",
       "       'spending'],\n",
       "      dtype='object')"
      ]
     },
     "execution_count": 41,
     "metadata": {},
     "output_type": "execute_result"
    }
   ],
   "source": [
    "orders_products_together.columns"
   ]
  },
  {
   "cell_type": "markdown",
   "id": "7cc0ef9d",
   "metadata": {},
   "source": [
    "# 14 Spending and discovering the time of day"
   ]
  },
  {
   "cell_type": "code",
   "execution_count": 42,
   "id": "5035312e",
   "metadata": {},
   "outputs": [],
   "source": [
    "ct_spending_hour = pd.crosstab(orders_products_together['spending'], orders_products_together['order_hour_of_day'], dropna=False)"
   ]
  },
  {
   "cell_type": "code",
   "execution_count": 43,
   "id": "b6cc00f7",
   "metadata": {},
   "outputs": [
    {
     "data": {
      "text/html": [
       "<div>\n",
       "<style scoped>\n",
       "    .dataframe tbody tr th:only-of-type {\n",
       "        vertical-align: middle;\n",
       "    }\n",
       "\n",
       "    .dataframe tbody tr th {\n",
       "        vertical-align: top;\n",
       "    }\n",
       "\n",
       "    .dataframe thead th {\n",
       "        text-align: right;\n",
       "    }\n",
       "</style>\n",
       "<table border=\"1\" class=\"dataframe\">\n",
       "  <thead>\n",
       "    <tr style=\"text-align: right;\">\n",
       "      <th>order_hour_of_day</th>\n",
       "      <th>0</th>\n",
       "      <th>1</th>\n",
       "      <th>2</th>\n",
       "      <th>3</th>\n",
       "      <th>4</th>\n",
       "      <th>5</th>\n",
       "      <th>6</th>\n",
       "      <th>7</th>\n",
       "      <th>8</th>\n",
       "      <th>9</th>\n",
       "      <th>...</th>\n",
       "      <th>14</th>\n",
       "      <th>15</th>\n",
       "      <th>16</th>\n",
       "      <th>17</th>\n",
       "      <th>18</th>\n",
       "      <th>19</th>\n",
       "      <th>20</th>\n",
       "      <th>21</th>\n",
       "      <th>22</th>\n",
       "      <th>23</th>\n",
       "    </tr>\n",
       "    <tr>\n",
       "      <th>spending</th>\n",
       "      <th></th>\n",
       "      <th></th>\n",
       "      <th></th>\n",
       "      <th></th>\n",
       "      <th></th>\n",
       "      <th></th>\n",
       "      <th></th>\n",
       "      <th></th>\n",
       "      <th></th>\n",
       "      <th></th>\n",
       "      <th></th>\n",
       "      <th></th>\n",
       "      <th></th>\n",
       "      <th></th>\n",
       "      <th></th>\n",
       "      <th></th>\n",
       "      <th></th>\n",
       "      <th></th>\n",
       "      <th></th>\n",
       "      <th></th>\n",
       "      <th></th>\n",
       "    </tr>\n",
       "  </thead>\n",
       "  <tbody>\n",
       "    <tr>\n",
       "      <th>3.000</th>\n",
       "      <td>0</td>\n",
       "      <td>0</td>\n",
       "      <td>0</td>\n",
       "      <td>0</td>\n",
       "      <td>0</td>\n",
       "      <td>0</td>\n",
       "      <td>0</td>\n",
       "      <td>0</td>\n",
       "      <td>0</td>\n",
       "      <td>0</td>\n",
       "      <td>...</td>\n",
       "      <td>1</td>\n",
       "      <td>0</td>\n",
       "      <td>1</td>\n",
       "      <td>0</td>\n",
       "      <td>2</td>\n",
       "      <td>0</td>\n",
       "      <td>0</td>\n",
       "      <td>0</td>\n",
       "      <td>1</td>\n",
       "      <td>0</td>\n",
       "    </tr>\n",
       "    <tr>\n",
       "      <th>3.300</th>\n",
       "      <td>0</td>\n",
       "      <td>0</td>\n",
       "      <td>0</td>\n",
       "      <td>0</td>\n",
       "      <td>0</td>\n",
       "      <td>0</td>\n",
       "      <td>0</td>\n",
       "      <td>0</td>\n",
       "      <td>0</td>\n",
       "      <td>0</td>\n",
       "      <td>...</td>\n",
       "      <td>1</td>\n",
       "      <td>0</td>\n",
       "      <td>1</td>\n",
       "      <td>2</td>\n",
       "      <td>2</td>\n",
       "      <td>2</td>\n",
       "      <td>0</td>\n",
       "      <td>0</td>\n",
       "      <td>0</td>\n",
       "      <td>1</td>\n",
       "    </tr>\n",
       "    <tr>\n",
       "      <th>3.600</th>\n",
       "      <td>0</td>\n",
       "      <td>0</td>\n",
       "      <td>0</td>\n",
       "      <td>0</td>\n",
       "      <td>0</td>\n",
       "      <td>0</td>\n",
       "      <td>0</td>\n",
       "      <td>0</td>\n",
       "      <td>0</td>\n",
       "      <td>0</td>\n",
       "      <td>...</td>\n",
       "      <td>0</td>\n",
       "      <td>0</td>\n",
       "      <td>0</td>\n",
       "      <td>0</td>\n",
       "      <td>0</td>\n",
       "      <td>0</td>\n",
       "      <td>0</td>\n",
       "      <td>0</td>\n",
       "      <td>0</td>\n",
       "      <td>0</td>\n",
       "    </tr>\n",
       "    <tr>\n",
       "      <th>3.900</th>\n",
       "      <td>0</td>\n",
       "      <td>0</td>\n",
       "      <td>0</td>\n",
       "      <td>0</td>\n",
       "      <td>0</td>\n",
       "      <td>0</td>\n",
       "      <td>0</td>\n",
       "      <td>0</td>\n",
       "      <td>1</td>\n",
       "      <td>0</td>\n",
       "      <td>...</td>\n",
       "      <td>0</td>\n",
       "      <td>3</td>\n",
       "      <td>0</td>\n",
       "      <td>1</td>\n",
       "      <td>0</td>\n",
       "      <td>1</td>\n",
       "      <td>0</td>\n",
       "      <td>0</td>\n",
       "      <td>0</td>\n",
       "      <td>1</td>\n",
       "    </tr>\n",
       "    <tr>\n",
       "      <th>4.000</th>\n",
       "      <td>0</td>\n",
       "      <td>0</td>\n",
       "      <td>0</td>\n",
       "      <td>0</td>\n",
       "      <td>0</td>\n",
       "      <td>0</td>\n",
       "      <td>0</td>\n",
       "      <td>0</td>\n",
       "      <td>0</td>\n",
       "      <td>0</td>\n",
       "      <td>...</td>\n",
       "      <td>0</td>\n",
       "      <td>1</td>\n",
       "      <td>0</td>\n",
       "      <td>2</td>\n",
       "      <td>0</td>\n",
       "      <td>0</td>\n",
       "      <td>0</td>\n",
       "      <td>0</td>\n",
       "      <td>0</td>\n",
       "      <td>0</td>\n",
       "    </tr>\n",
       "    <tr>\n",
       "      <th>...</th>\n",
       "      <td>...</td>\n",
       "      <td>...</td>\n",
       "      <td>...</td>\n",
       "      <td>...</td>\n",
       "      <td>...</td>\n",
       "      <td>...</td>\n",
       "      <td>...</td>\n",
       "      <td>...</td>\n",
       "      <td>...</td>\n",
       "      <td>...</td>\n",
       "      <td>...</td>\n",
       "      <td>...</td>\n",
       "      <td>...</td>\n",
       "      <td>...</td>\n",
       "      <td>...</td>\n",
       "      <td>...</td>\n",
       "      <td>...</td>\n",
       "      <td>...</td>\n",
       "      <td>...</td>\n",
       "      <td>...</td>\n",
       "      <td>...</td>\n",
       "    </tr>\n",
       "    <tr>\n",
       "      <th>22595.500</th>\n",
       "      <td>0</td>\n",
       "      <td>0</td>\n",
       "      <td>0</td>\n",
       "      <td>0</td>\n",
       "      <td>0</td>\n",
       "      <td>0</td>\n",
       "      <td>0</td>\n",
       "      <td>0</td>\n",
       "      <td>0</td>\n",
       "      <td>32</td>\n",
       "      <td>...</td>\n",
       "      <td>115</td>\n",
       "      <td>721</td>\n",
       "      <td>635</td>\n",
       "      <td>187</td>\n",
       "      <td>205</td>\n",
       "      <td>31</td>\n",
       "      <td>3</td>\n",
       "      <td>0</td>\n",
       "      <td>0</td>\n",
       "      <td>0</td>\n",
       "    </tr>\n",
       "    <tr>\n",
       "      <th>22696.900</th>\n",
       "      <td>0</td>\n",
       "      <td>0</td>\n",
       "      <td>0</td>\n",
       "      <td>0</td>\n",
       "      <td>0</td>\n",
       "      <td>0</td>\n",
       "      <td>0</td>\n",
       "      <td>0</td>\n",
       "      <td>24</td>\n",
       "      <td>108</td>\n",
       "      <td>...</td>\n",
       "      <td>369</td>\n",
       "      <td>215</td>\n",
       "      <td>224</td>\n",
       "      <td>445</td>\n",
       "      <td>195</td>\n",
       "      <td>30</td>\n",
       "      <td>36</td>\n",
       "      <td>0</td>\n",
       "      <td>0</td>\n",
       "      <td>0</td>\n",
       "    </tr>\n",
       "    <tr>\n",
       "      <th>22777.900</th>\n",
       "      <td>0</td>\n",
       "      <td>0</td>\n",
       "      <td>0</td>\n",
       "      <td>0</td>\n",
       "      <td>0</td>\n",
       "      <td>0</td>\n",
       "      <td>0</td>\n",
       "      <td>54</td>\n",
       "      <td>184</td>\n",
       "      <td>206</td>\n",
       "      <td>...</td>\n",
       "      <td>307</td>\n",
       "      <td>261</td>\n",
       "      <td>334</td>\n",
       "      <td>241</td>\n",
       "      <td>40</td>\n",
       "      <td>116</td>\n",
       "      <td>158</td>\n",
       "      <td>0</td>\n",
       "      <td>22</td>\n",
       "      <td>36</td>\n",
       "    </tr>\n",
       "    <tr>\n",
       "      <th>24307.100</th>\n",
       "      <td>0</td>\n",
       "      <td>0</td>\n",
       "      <td>0</td>\n",
       "      <td>0</td>\n",
       "      <td>0</td>\n",
       "      <td>0</td>\n",
       "      <td>0</td>\n",
       "      <td>0</td>\n",
       "      <td>74</td>\n",
       "      <td>159</td>\n",
       "      <td>...</td>\n",
       "      <td>128</td>\n",
       "      <td>373</td>\n",
       "      <td>260</td>\n",
       "      <td>134</td>\n",
       "      <td>0</td>\n",
       "      <td>112</td>\n",
       "      <td>70</td>\n",
       "      <td>0</td>\n",
       "      <td>42</td>\n",
       "      <td>137</td>\n",
       "    </tr>\n",
       "    <tr>\n",
       "      <th>26394.900</th>\n",
       "      <td>178</td>\n",
       "      <td>97</td>\n",
       "      <td>0</td>\n",
       "      <td>0</td>\n",
       "      <td>0</td>\n",
       "      <td>0</td>\n",
       "      <td>0</td>\n",
       "      <td>84</td>\n",
       "      <td>257</td>\n",
       "      <td>161</td>\n",
       "      <td>...</td>\n",
       "      <td>192</td>\n",
       "      <td>225</td>\n",
       "      <td>227</td>\n",
       "      <td>452</td>\n",
       "      <td>203</td>\n",
       "      <td>19</td>\n",
       "      <td>113</td>\n",
       "      <td>0</td>\n",
       "      <td>125</td>\n",
       "      <td>175</td>\n",
       "    </tr>\n",
       "  </tbody>\n",
       "</table>\n",
       "<p>46610 rows × 24 columns</p>\n",
       "</div>"
      ],
      "text/plain": [
       "order_hour_of_day   0   1   2   3   4   5   6   7    8    9   ...   14   15  \\\n",
       "spending                                                      ...             \n",
       "3.000                0   0   0   0   0   0   0   0    0    0  ...    1    0   \n",
       "3.300                0   0   0   0   0   0   0   0    0    0  ...    1    0   \n",
       "3.600                0   0   0   0   0   0   0   0    0    0  ...    0    0   \n",
       "3.900                0   0   0   0   0   0   0   0    1    0  ...    0    3   \n",
       "4.000                0   0   0   0   0   0   0   0    0    0  ...    0    1   \n",
       "...                ...  ..  ..  ..  ..  ..  ..  ..  ...  ...  ...  ...  ...   \n",
       "22595.500            0   0   0   0   0   0   0   0    0   32  ...  115  721   \n",
       "22696.900            0   0   0   0   0   0   0   0   24  108  ...  369  215   \n",
       "22777.900            0   0   0   0   0   0   0  54  184  206  ...  307  261   \n",
       "24307.100            0   0   0   0   0   0   0   0   74  159  ...  128  373   \n",
       "26394.900          178  97   0   0   0   0   0  84  257  161  ...  192  225   \n",
       "\n",
       "order_hour_of_day   16   17   18   19   20  21   22   23  \n",
       "spending                                                  \n",
       "3.000                1    0    2    0    0   0    1    0  \n",
       "3.300                1    2    2    2    0   0    0    1  \n",
       "3.600                0    0    0    0    0   0    0    0  \n",
       "3.900                0    1    0    1    0   0    0    1  \n",
       "4.000                0    2    0    0    0   0    0    0  \n",
       "...                ...  ...  ...  ...  ...  ..  ...  ...  \n",
       "22595.500          635  187  205   31    3   0    0    0  \n",
       "22696.900          224  445  195   30   36   0    0    0  \n",
       "22777.900          334  241   40  116  158   0   22   36  \n",
       "24307.100          260  134    0  112   70   0   42  137  \n",
       "26394.900          227  452  203   19  113   0  125  175  \n",
       "\n",
       "[46610 rows x 24 columns]"
      ]
     },
     "execution_count": 43,
     "metadata": {},
     "output_type": "execute_result"
    }
   ],
   "source": [
    "ct_spending_hour"
   ]
  },
  {
   "cell_type": "code",
   "execution_count": 44,
   "id": "fad377ec",
   "metadata": {},
   "outputs": [],
   "source": [
    "#Order value\n",
    "orders_products_together['order_value'] = orders_products_together.groupby(['order_id'])['prices'].transform(np.sum)"
   ]
  },
  {
   "cell_type": "code",
   "execution_count": 45,
   "id": "75c104c5",
   "metadata": {},
   "outputs": [],
   "source": [
    "#Creating a sample\n",
    "#Set seed for random number generator\n",
    "np.random.seed(4)\n",
    "#Create list holding boolean values to the test np.random.rand() <= 0.7\n",
    "dev = np.random.rand(len(orders_products_together)) <= 0.7"
   ]
  },
  {
   "cell_type": "code",
   "execution_count": 46,
   "id": "b9ec1edd",
   "metadata": {},
   "outputs": [],
   "source": [
    "#Splitting df\n",
    "#Store 30% of smaple in df small\n",
    "small = orders_products_together[~dev]"
   ]
  },
  {
   "cell_type": "code",
   "execution_count": 47,
   "id": "e525e122",
   "metadata": {},
   "outputs": [],
   "source": [
    "#Reducing sample to necessary columns\n",
    "df_2 = small[['order_hour_of_day','spending']]"
   ]
  },
  {
   "cell_type": "code",
   "execution_count": 48,
   "id": "3fb31b07",
   "metadata": {},
   "outputs": [
    {
     "data": {
      "image/png": "[encoded data removed]",
      "text/plain": [
       "<Figure size 432x288 with 1 Axes>"
      ]
     },
     "metadata": {
      "needs_background": "light"
     },
     "output_type": "display_data"
    }
   ],
   "source": [
    "#Create line chart - spending through course of day\n",
    "line = sns.lineplot(data = df_2, x = 'order_hour_of_day',y = 'spending')"
   ]
  },
  {
   "cell_type": "code",
   "execution_count": 49,
   "id": "f6957c79",
   "metadata": {},
   "outputs": [],
   "source": [
    "#Exporting charts\n",
    "line.figure.savefig(os.path.join(path, '4. Analysis', 'ex4_10_line_spending_day.png'))"
   ]
  },
  {
   "cell_type": "code",
   "execution_count": 50,
   "id": "085fec0e",
   "metadata": {},
   "outputs": [],
   "source": [
    "df_3 = small[['order_hour_of_day','order_value']]"
   ]
  },
  {
   "cell_type": "code",
   "execution_count": 51,
   "id": "caf6ace8",
   "metadata": {},
   "outputs": [
    {
     "data": {
      "image/png": "[encoded data removed]",
      "text/plain": [
       "<Figure size 432x288 with 1 Axes>"
      ]
     },
     "metadata": {
      "needs_background": "light"
     },
     "output_type": "display_data"
    }
   ],
   "source": [
    "#Create line chart - spending through course of day\n",
    "Order_value_day_line = sns.lineplot(data = df_3, x = 'order_hour_of_day',y = 'order_value')"
   ]
  },
  {
   "cell_type": "code",
   "execution_count": 52,
   "id": "91913d7b",
   "metadata": {},
   "outputs": [],
   "source": [
    "#Exporting chart\n",
    "Order_value_day_line.figure.savefig(os.path.join(path, '4. Analysis', 'ex4_10_line_order_value_day.png'))"
   ]
  },
  {
   "cell_type": "markdown",
   "id": "fafa3588",
   "metadata": {},
   "source": [
    "# 15 Price Range Products and which Department"
   ]
  },
  {
   "cell_type": "code",
   "execution_count": 53,
   "id": "e07e557f",
   "metadata": {},
   "outputs": [],
   "source": [
    "ct_dep_price = pd.crosstab(orders_products_together['department_id'], orders_products_together['price_range'], dropna=False)"
   ]
  },
  {
   "cell_type": "code",
   "execution_count": 54,
   "id": "78ebdddb",
   "metadata": {},
   "outputs": [
    {
     "data": {
      "image/png": "[encoded data removed]",
      "text/plain": [
       "<Figure size 432x288 with 1 Axes>"
      ]
     },
     "metadata": {
      "needs_background": "light"
     },
     "output_type": "display_data"
    }
   ],
   "source": [
    "dep__price_bar = ct_dep_price.plot(kind='bar', stacked=True,\n",
    "        title='Price range by department')"
   ]
  },
  {
   "cell_type": "code",
   "execution_count": 55,
   "id": "97320c6b",
   "metadata": {},
   "outputs": [],
   "source": [
    "#Exporting charts\n",
    "dep__price_bar.figure.savefig(os.path.join(path, '4. Analysis', 'ex4_10_bar_dep_price.png'))"
   ]
  },
  {
   "cell_type": "markdown",
   "id": "ad48a80f",
   "metadata": {},
   "source": [
    "# 16 Finding the Department Frequency"
   ]
  },
  {
   "cell_type": "code",
   "execution_count": 56,
   "id": "f79c4c37",
   "metadata": {},
   "outputs": [
    {
     "data": {
      "text/html": [
       "<div>\n",
       "<style scoped>\n",
       "    .dataframe tbody tr th:only-of-type {\n",
       "        vertical-align: middle;\n",
       "    }\n",
       "\n",
       "    .dataframe tbody tr th {\n",
       "        vertical-align: top;\n",
       "    }\n",
       "\n",
       "    .dataframe thead tr th {\n",
       "        text-align: left;\n",
       "    }\n",
       "\n",
       "    .dataframe thead tr:last-of-type th {\n",
       "        text-align: right;\n",
       "    }\n",
       "</style>\n",
       "<table border=\"1\" class=\"dataframe\">\n",
       "  <thead>\n",
       "    <tr>\n",
       "      <th></th>\n",
       "      <th colspan=\"3\" halign=\"left\">order_frequency</th>\n",
       "    </tr>\n",
       "    <tr>\n",
       "      <th></th>\n",
       "      <th>mean</th>\n",
       "      <th>min</th>\n",
       "      <th>max</th>\n",
       "    </tr>\n",
       "    <tr>\n",
       "      <th>department_id</th>\n",
       "      <th></th>\n",
       "      <th></th>\n",
       "      <th></th>\n",
       "    </tr>\n",
       "  </thead>\n",
       "  <tbody>\n",
       "    <tr>\n",
       "      <th>1</th>\n",
       "      <td>11.047</td>\n",
       "      <td>0.000</td>\n",
       "      <td>30.000</td>\n",
       "    </tr>\n",
       "    <tr>\n",
       "      <th>2</th>\n",
       "      <td>10.383</td>\n",
       "      <td>0.000</td>\n",
       "      <td>30.000</td>\n",
       "    </tr>\n",
       "    <tr>\n",
       "      <th>3</th>\n",
       "      <td>10.344</td>\n",
       "      <td>0.000</td>\n",
       "      <td>30.000</td>\n",
       "    </tr>\n",
       "    <tr>\n",
       "      <th>4</th>\n",
       "      <td>10.133</td>\n",
       "      <td>0.000</td>\n",
       "      <td>30.000</td>\n",
       "    </tr>\n",
       "    <tr>\n",
       "      <th>5</th>\n",
       "      <td>10.094</td>\n",
       "      <td>0.000</td>\n",
       "      <td>30.000</td>\n",
       "    </tr>\n",
       "    <tr>\n",
       "      <th>6</th>\n",
       "      <td>10.703</td>\n",
       "      <td>0.000</td>\n",
       "      <td>30.000</td>\n",
       "    </tr>\n",
       "    <tr>\n",
       "      <th>7</th>\n",
       "      <td>10.375</td>\n",
       "      <td>0.000</td>\n",
       "      <td>30.000</td>\n",
       "    </tr>\n",
       "    <tr>\n",
       "      <th>8</th>\n",
       "      <td>11.094</td>\n",
       "      <td>0.000</td>\n",
       "      <td>30.000</td>\n",
       "    </tr>\n",
       "    <tr>\n",
       "      <th>9</th>\n",
       "      <td>11.016</td>\n",
       "      <td>0.000</td>\n",
       "      <td>30.000</td>\n",
       "    </tr>\n",
       "    <tr>\n",
       "      <th>10</th>\n",
       "      <td>9.398</td>\n",
       "      <td>0.000</td>\n",
       "      <td>30.000</td>\n",
       "    </tr>\n",
       "    <tr>\n",
       "      <th>11</th>\n",
       "      <td>11.008</td>\n",
       "      <td>0.000</td>\n",
       "      <td>30.000</td>\n",
       "    </tr>\n",
       "    <tr>\n",
       "      <th>12</th>\n",
       "      <td>10.727</td>\n",
       "      <td>0.000</td>\n",
       "      <td>30.000</td>\n",
       "    </tr>\n",
       "    <tr>\n",
       "      <th>13</th>\n",
       "      <td>10.656</td>\n",
       "      <td>0.000</td>\n",
       "      <td>30.000</td>\n",
       "    </tr>\n",
       "    <tr>\n",
       "      <th>14</th>\n",
       "      <td>10.523</td>\n",
       "      <td>0.000</td>\n",
       "      <td>30.000</td>\n",
       "    </tr>\n",
       "    <tr>\n",
       "      <th>15</th>\n",
       "      <td>11.016</td>\n",
       "      <td>0.000</td>\n",
       "      <td>30.000</td>\n",
       "    </tr>\n",
       "    <tr>\n",
       "      <th>16</th>\n",
       "      <td>10.156</td>\n",
       "      <td>0.000</td>\n",
       "      <td>30.000</td>\n",
       "    </tr>\n",
       "    <tr>\n",
       "      <th>17</th>\n",
       "      <td>11.367</td>\n",
       "      <td>0.000</td>\n",
       "      <td>30.000</td>\n",
       "    </tr>\n",
       "    <tr>\n",
       "      <th>18</th>\n",
       "      <td>9.094</td>\n",
       "      <td>0.000</td>\n",
       "      <td>30.000</td>\n",
       "    </tr>\n",
       "    <tr>\n",
       "      <th>19</th>\n",
       "      <td>10.352</td>\n",
       "      <td>0.000</td>\n",
       "      <td>30.000</td>\n",
       "    </tr>\n",
       "    <tr>\n",
       "      <th>20</th>\n",
       "      <td>10.609</td>\n",
       "      <td>0.000</td>\n",
       "      <td>30.000</td>\n",
       "    </tr>\n",
       "    <tr>\n",
       "      <th>21</th>\n",
       "      <td>9.445</td>\n",
       "      <td>0.000</td>\n",
       "      <td>30.000</td>\n",
       "    </tr>\n",
       "  </tbody>\n",
       "</table>\n",
       "</div>"
      ],
      "text/plain": [
       "              order_frequency             \n",
       "                         mean   min    max\n",
       "department_id                             \n",
       "1                      11.047 0.000 30.000\n",
       "2                      10.383 0.000 30.000\n",
       "3                      10.344 0.000 30.000\n",
       "4                      10.133 0.000 30.000\n",
       "5                      10.094 0.000 30.000\n",
       "6                      10.703 0.000 30.000\n",
       "7                      10.375 0.000 30.000\n",
       "8                      11.094 0.000 30.000\n",
       "9                      11.016 0.000 30.000\n",
       "10                      9.398 0.000 30.000\n",
       "11                     11.008 0.000 30.000\n",
       "12                     10.727 0.000 30.000\n",
       "13                     10.656 0.000 30.000\n",
       "14                     10.523 0.000 30.000\n",
       "15                     11.016 0.000 30.000\n",
       "16                     10.156 0.000 30.000\n",
       "17                     11.367 0.000 30.000\n",
       "18                      9.094 0.000 30.000\n",
       "19                     10.352 0.000 30.000\n",
       "20                     10.609 0.000 30.000\n",
       "21                      9.445 0.000 30.000"
      ]
     },
     "execution_count": 56,
     "metadata": {},
     "output_type": "execute_result"
    }
   ],
   "source": [
    "#deparment & order_frequency\n",
    "#aggregating average orders per department\n",
    "orders_products_together.groupby('department_id').agg({'order_frequency': ['mean', 'min', 'max']})"
   ]
  },
  {
   "cell_type": "markdown",
   "id": "eb462b44",
   "metadata": {},
   "source": [
    "# 16.1 Finding the Regional Differences (region and Department)"
   ]
  },
  {
   "cell_type": "code",
   "execution_count": 57,
   "id": "6e6fa5b4",
   "metadata": {},
   "outputs": [],
   "source": [
    "ct_region_dep = pd.crosstab(orders_products_together['department_id'], orders_products_together['region'], dropna = False)"
   ]
  },
  {
   "cell_type": "code",
   "execution_count": 58,
   "id": "903368c7",
   "metadata": {},
   "outputs": [
    {
     "data": {
      "text/html": [
       "<div>\n",
       "<style scoped>\n",
       "    .dataframe tbody tr th:only-of-type {\n",
       "        vertical-align: middle;\n",
       "    }\n",
       "\n",
       "    .dataframe tbody tr th {\n",
       "        vertical-align: top;\n",
       "    }\n",
       "\n",
       "    .dataframe thead th {\n",
       "        text-align: right;\n",
       "    }\n",
       "</style>\n",
       "<table border=\"1\" class=\"dataframe\">\n",
       "  <thead>\n",
       "    <tr style=\"text-align: right;\">\n",
       "      <th>region</th>\n",
       "      <th>Midwest</th>\n",
       "      <th>Northeast</th>\n",
       "      <th>South</th>\n",
       "      <th>West</th>\n",
       "    </tr>\n",
       "    <tr>\n",
       "      <th>department_id</th>\n",
       "      <th></th>\n",
       "      <th></th>\n",
       "      <th></th>\n",
       "      <th></th>\n",
       "    </tr>\n",
       "  </thead>\n",
       "  <tbody>\n",
       "    <tr>\n",
       "      <th>1</th>\n",
       "      <td>524096</td>\n",
       "      <td>345032</td>\n",
       "      <td>793786</td>\n",
       "      <td>571829</td>\n",
       "    </tr>\n",
       "    <tr>\n",
       "      <th>2</th>\n",
       "      <td>8420</td>\n",
       "      <td>5749</td>\n",
       "      <td>13048</td>\n",
       "      <td>9074</td>\n",
       "    </tr>\n",
       "    <tr>\n",
       "      <th>3</th>\n",
       "      <td>273869</td>\n",
       "      <td>183764</td>\n",
       "      <td>413650</td>\n",
       "      <td>301145</td>\n",
       "    </tr>\n",
       "    <tr>\n",
       "      <th>4</th>\n",
       "      <td>2227937</td>\n",
       "      <td>1474885</td>\n",
       "      <td>3351505</td>\n",
       "      <td>2424964</td>\n",
       "    </tr>\n",
       "    <tr>\n",
       "      <th>5</th>\n",
       "      <td>36186</td>\n",
       "      <td>23327</td>\n",
       "      <td>54839</td>\n",
       "      <td>39344</td>\n",
       "    </tr>\n",
       "    <tr>\n",
       "      <th>6</th>\n",
       "      <td>63736</td>\n",
       "      <td>41178</td>\n",
       "      <td>94855</td>\n",
       "      <td>69484</td>\n",
       "    </tr>\n",
       "    <tr>\n",
       "      <th>7</th>\n",
       "      <td>625574</td>\n",
       "      <td>425306</td>\n",
       "      <td>957052</td>\n",
       "      <td>680191</td>\n",
       "    </tr>\n",
       "    <tr>\n",
       "      <th>8</th>\n",
       "      <td>22355</td>\n",
       "      <td>16551</td>\n",
       "      <td>33319</td>\n",
       "      <td>25491</td>\n",
       "    </tr>\n",
       "    <tr>\n",
       "      <th>9</th>\n",
       "      <td>203769</td>\n",
       "      <td>134121</td>\n",
       "      <td>305139</td>\n",
       "      <td>223598</td>\n",
       "    </tr>\n",
       "    <tr>\n",
       "      <th>10</th>\n",
       "      <td>8193</td>\n",
       "      <td>5136</td>\n",
       "      <td>12199</td>\n",
       "      <td>9045</td>\n",
       "    </tr>\n",
       "    <tr>\n",
       "      <th>11</th>\n",
       "      <td>105749</td>\n",
       "      <td>69429</td>\n",
       "      <td>159736</td>\n",
       "      <td>112658</td>\n",
       "    </tr>\n",
       "    <tr>\n",
       "      <th>12</th>\n",
       "      <td>166129</td>\n",
       "      <td>110354</td>\n",
       "      <td>250018</td>\n",
       "      <td>182426</td>\n",
       "    </tr>\n",
       "    <tr>\n",
       "      <th>13</th>\n",
       "      <td>442101</td>\n",
       "      <td>291236</td>\n",
       "      <td>660645</td>\n",
       "      <td>481387</td>\n",
       "    </tr>\n",
       "    <tr>\n",
       "      <th>14</th>\n",
       "      <td>163551</td>\n",
       "      <td>108522</td>\n",
       "      <td>249303</td>\n",
       "      <td>181657</td>\n",
       "    </tr>\n",
       "    <tr>\n",
       "      <th>15</th>\n",
       "      <td>250702</td>\n",
       "      <td>165406</td>\n",
       "      <td>377364</td>\n",
       "      <td>274586</td>\n",
       "    </tr>\n",
       "    <tr>\n",
       "      <th>16</th>\n",
       "      <td>1264223</td>\n",
       "      <td>843526</td>\n",
       "      <td>1907469</td>\n",
       "      <td>1383529</td>\n",
       "    </tr>\n",
       "    <tr>\n",
       "      <th>17</th>\n",
       "      <td>175824</td>\n",
       "      <td>115321</td>\n",
       "      <td>259234</td>\n",
       "      <td>188287</td>\n",
       "    </tr>\n",
       "    <tr>\n",
       "      <th>18</th>\n",
       "      <td>98983</td>\n",
       "      <td>66756</td>\n",
       "      <td>152037</td>\n",
       "      <td>106026</td>\n",
       "    </tr>\n",
       "    <tr>\n",
       "      <th>19</th>\n",
       "      <td>673715</td>\n",
       "      <td>454245</td>\n",
       "      <td>1017776</td>\n",
       "      <td>741814</td>\n",
       "    </tr>\n",
       "    <tr>\n",
       "      <th>20</th>\n",
       "      <td>245678</td>\n",
       "      <td>164937</td>\n",
       "      <td>371299</td>\n",
       "      <td>269335</td>\n",
       "    </tr>\n",
       "    <tr>\n",
       "      <th>21</th>\n",
       "      <td>16535</td>\n",
       "      <td>10873</td>\n",
       "      <td>24694</td>\n",
       "      <td>17043</td>\n",
       "    </tr>\n",
       "  </tbody>\n",
       "</table>\n",
       "</div>"
      ],
      "text/plain": [
       "region         Midwest  Northeast    South     West\n",
       "department_id                                      \n",
       "1               524096     345032   793786   571829\n",
       "2                 8420       5749    13048     9074\n",
       "3               273869     183764   413650   301145\n",
       "4              2227937    1474885  3351505  2424964\n",
       "5                36186      23327    54839    39344\n",
       "6                63736      41178    94855    69484\n",
       "7               625574     425306   957052   680191\n",
       "8                22355      16551    33319    25491\n",
       "9               203769     134121   305139   223598\n",
       "10                8193       5136    12199     9045\n",
       "11              105749      69429   159736   112658\n",
       "12              166129     110354   250018   182426\n",
       "13              442101     291236   660645   481387\n",
       "14              163551     108522   249303   181657\n",
       "15              250702     165406   377364   274586\n",
       "16             1264223     843526  1907469  1383529\n",
       "17              175824     115321   259234   188287\n",
       "18               98983      66756   152037   106026\n",
       "19              673715     454245  1017776   741814\n",
       "20              245678     164937   371299   269335\n",
       "21               16535      10873    24694    17043"
      ]
     },
     "execution_count": 58,
     "metadata": {},
     "output_type": "execute_result"
    }
   ],
   "source": [
    "ct_region_dep"
   ]
  },
  {
   "cell_type": "code",
   "execution_count": 59,
   "id": "376cbc22",
   "metadata": {},
   "outputs": [
    {
     "data": {
      "image/png": "[encoded data removed]",
      "text/plain": [
       "<Figure size 432x288 with 1 Axes>"
      ]
     },
     "metadata": {
      "needs_background": "light"
     },
     "output_type": "display_data"
    }
   ],
   "source": [
    "reg_dep_bar = ct_region_dep.plot(kind='bar', stacked=True,\n",
    "        title='Departments by region', legend = 'bottom')"
   ]
  },
  {
   "cell_type": "code",
   "execution_count": 60,
   "id": "b8b03690",
   "metadata": {},
   "outputs": [],
   "source": [
    "#Exporting charts\n",
    "reg_dep_bar.figure.savefig(os.path.join(path, '4. Analysis', 'ex4-10_bar_dep_region.png'))"
   ]
  },
  {
   "cell_type": "markdown",
   "id": "ec9a3a01",
   "metadata": {},
   "source": [
    "# 16.2 Finding the region and spending habits"
   ]
  },
  {
   "cell_type": "code",
   "execution_count": 61,
   "id": "75181dd3",
   "metadata": {},
   "outputs": [],
   "source": [
    "ct_region_spending = pd.crosstab(orders_products_together['region'], orders_products_together['spender_flag'], dropna = False)"
   ]
  },
  {
   "cell_type": "code",
   "execution_count": 62,
   "id": "f1391267",
   "metadata": {},
   "outputs": [
    {
     "data": {
      "image/png": "[encoded data removed]",
      "text/plain": [
       "<Figure size 432x288 with 1 Axes>"
      ]
     },
     "metadata": {
      "needs_background": "light"
     },
     "output_type": "display_data"
    }
   ],
   "source": [
    "reg_spend_bar = ct_region_spending.plot(kind='bar', stacked=True,\n",
    "        title='Spending by region')"
   ]
  },
  {
   "cell_type": "code",
   "execution_count": 63,
   "id": "ab895e32",
   "metadata": {},
   "outputs": [
    {
     "data": {
      "image/png": "[encoded data removed]",
      "text/plain": [
       "<Figure size 432x288 with 1 Axes>"
      ]
     },
     "metadata": {
      "needs_background": "light"
     },
     "output_type": "display_data"
    }
   ],
   "source": [
    "reg_spend_bar = ct_region_spending.plot(kind='bar', stacked=True,\n",
    "        title='Spending by region')"
   ]
  },
  {
   "cell_type": "code",
   "execution_count": 64,
   "id": "7fd2b76b",
   "metadata": {},
   "outputs": [],
   "source": [
    "ct_region_freq = pd.crosstab(orders_products_together['region'], orders_products_together['order_frequency'], dropna = False)"
   ]
  },
  {
   "cell_type": "code",
   "execution_count": 65,
   "id": "36ac6572",
   "metadata": {},
   "outputs": [
    {
     "data": {
      "text/html": [
       "<div>\n",
       "<style scoped>\n",
       "    .dataframe tbody tr th:only-of-type {\n",
       "        vertical-align: middle;\n",
       "    }\n",
       "\n",
       "    .dataframe tbody tr th {\n",
       "        vertical-align: top;\n",
       "    }\n",
       "\n",
       "    .dataframe thead th {\n",
       "        text-align: right;\n",
       "    }\n",
       "</style>\n",
       "<table border=\"1\" class=\"dataframe\">\n",
       "  <thead>\n",
       "    <tr style=\"text-align: right;\">\n",
       "      <th>order_frequency</th>\n",
       "      <th>0.000</th>\n",
       "      <th>0.500</th>\n",
       "      <th>1.000</th>\n",
       "      <th>1.500</th>\n",
       "      <th>2.000</th>\n",
       "      <th>2.500</th>\n",
       "      <th>3.000</th>\n",
       "      <th>3.500</th>\n",
       "      <th>4.000</th>\n",
       "      <th>4.500</th>\n",
       "      <th>...</th>\n",
       "      <th>25.500</th>\n",
       "      <th>26.000</th>\n",
       "      <th>26.500</th>\n",
       "      <th>27.000</th>\n",
       "      <th>27.500</th>\n",
       "      <th>28.000</th>\n",
       "      <th>28.500</th>\n",
       "      <th>29.000</th>\n",
       "      <th>29.500</th>\n",
       "      <th>30.000</th>\n",
       "    </tr>\n",
       "    <tr>\n",
       "      <th>region</th>\n",
       "      <th></th>\n",
       "      <th></th>\n",
       "      <th></th>\n",
       "      <th></th>\n",
       "      <th></th>\n",
       "      <th></th>\n",
       "      <th></th>\n",
       "      <th></th>\n",
       "      <th></th>\n",
       "      <th></th>\n",
       "      <th></th>\n",
       "      <th></th>\n",
       "      <th></th>\n",
       "      <th></th>\n",
       "      <th></th>\n",
       "      <th></th>\n",
       "      <th></th>\n",
       "      <th></th>\n",
       "      <th></th>\n",
       "      <th></th>\n",
       "      <th></th>\n",
       "    </tr>\n",
       "  </thead>\n",
       "  <tbody>\n",
       "    <tr>\n",
       "      <th>Midwest</th>\n",
       "      <td>7186</td>\n",
       "      <td>63</td>\n",
       "      <td>30044</td>\n",
       "      <td>70</td>\n",
       "      <td>122981</td>\n",
       "      <td>880</td>\n",
       "      <td>351820</td>\n",
       "      <td>3383</td>\n",
       "      <td>528418</td>\n",
       "      <td>7206</td>\n",
       "      <td>...</td>\n",
       "      <td>2565</td>\n",
       "      <td>35767</td>\n",
       "      <td>1828</td>\n",
       "      <td>43276</td>\n",
       "      <td>1709</td>\n",
       "      <td>47688</td>\n",
       "      <td>1495</td>\n",
       "      <td>31581</td>\n",
       "      <td>1042</td>\n",
       "      <td>395811</td>\n",
       "    </tr>\n",
       "    <tr>\n",
       "      <th>Northeast</th>\n",
       "      <td>5752</td>\n",
       "      <td>25</td>\n",
       "      <td>27881</td>\n",
       "      <td>111</td>\n",
       "      <td>95002</td>\n",
       "      <td>315</td>\n",
       "      <td>220088</td>\n",
       "      <td>2454</td>\n",
       "      <td>362622</td>\n",
       "      <td>5249</td>\n",
       "      <td>...</td>\n",
       "      <td>931</td>\n",
       "      <td>26121</td>\n",
       "      <td>482</td>\n",
       "      <td>25966</td>\n",
       "      <td>557</td>\n",
       "      <td>32663</td>\n",
       "      <td>1069</td>\n",
       "      <td>22504</td>\n",
       "      <td>745</td>\n",
       "      <td>263090</td>\n",
       "    </tr>\n",
       "    <tr>\n",
       "      <th>South</th>\n",
       "      <td>12746</td>\n",
       "      <td>103</td>\n",
       "      <td>51655</td>\n",
       "      <td>1243</td>\n",
       "      <td>196204</td>\n",
       "      <td>3785</td>\n",
       "      <td>539469</td>\n",
       "      <td>3147</td>\n",
       "      <td>812112</td>\n",
       "      <td>11411</td>\n",
       "      <td>...</td>\n",
       "      <td>2407</td>\n",
       "      <td>59514</td>\n",
       "      <td>1818</td>\n",
       "      <td>60391</td>\n",
       "      <td>2302</td>\n",
       "      <td>68666</td>\n",
       "      <td>2237</td>\n",
       "      <td>49233</td>\n",
       "      <td>1832</td>\n",
       "      <td>594372</td>\n",
       "    </tr>\n",
       "    <tr>\n",
       "      <th>West</th>\n",
       "      <td>8556</td>\n",
       "      <td>44</td>\n",
       "      <td>42538</td>\n",
       "      <td>260</td>\n",
       "      <td>146977</td>\n",
       "      <td>2269</td>\n",
       "      <td>368610</td>\n",
       "      <td>3484</td>\n",
       "      <td>611137</td>\n",
       "      <td>5630</td>\n",
       "      <td>...</td>\n",
       "      <td>2007</td>\n",
       "      <td>40549</td>\n",
       "      <td>1386</td>\n",
       "      <td>43587</td>\n",
       "      <td>1031</td>\n",
       "      <td>50887</td>\n",
       "      <td>1750</td>\n",
       "      <td>33601</td>\n",
       "      <td>1476</td>\n",
       "      <td>430577</td>\n",
       "    </tr>\n",
       "  </tbody>\n",
       "</table>\n",
       "<p>4 rows × 61 columns</p>\n",
       "</div>"
      ],
      "text/plain": [
       "order_frequency  0.000   0.500   1.000   1.500   2.000   2.500   3.000   \\\n",
       "region                                                                    \n",
       "Midwest            7186      63   30044      70  122981     880  351820   \n",
       "Northeast          5752      25   27881     111   95002     315  220088   \n",
       "South             12746     103   51655    1243  196204    3785  539469   \n",
       "West               8556      44   42538     260  146977    2269  368610   \n",
       "\n",
       "order_frequency  3.500   4.000   4.500   ...  25.500  26.000  26.500  27.000  \\\n",
       "region                                   ...                                   \n",
       "Midwest            3383  528418    7206  ...    2565   35767    1828   43276   \n",
       "Northeast          2454  362622    5249  ...     931   26121     482   25966   \n",
       "South              3147  812112   11411  ...    2407   59514    1818   60391   \n",
       "West               3484  611137    5630  ...    2007   40549    1386   43587   \n",
       "\n",
       "order_frequency  27.500  28.000  28.500  29.000  29.500  30.000  \n",
       "region                                                           \n",
       "Midwest            1709   47688    1495   31581    1042  395811  \n",
       "Northeast           557   32663    1069   22504     745  263090  \n",
       "South              2302   68666    2237   49233    1832  594372  \n",
       "West               1031   50887    1750   33601    1476  430577  \n",
       "\n",
       "[4 rows x 61 columns]"
      ]
     },
     "execution_count": 65,
     "metadata": {},
     "output_type": "execute_result"
    }
   ],
   "source": [
    "ct_region_freq"
   ]
  },
  {
   "cell_type": "code",
   "execution_count": 66,
   "id": "d671c180",
   "metadata": {},
   "outputs": [],
   "source": [
    "COLORS= {'West':'yellow','South':'orange','Northeast':'green','Midwest':'blue'}"
   ]
  },
  {
   "cell_type": "code",
   "execution_count": 67,
   "id": "062ce2ca",
   "metadata": {},
   "outputs": [
    {
     "data": {
      "image/png": "[encoded data removed]",
      "text/plain": [
       "<Figure size 432x288 with 1 Axes>"
      ]
     },
     "metadata": {
      "needs_background": "light"
     },
     "output_type": "display_data"
    }
   ],
   "source": [
    "gk = small.groupby(\"region\")\n",
    "x = np.arange(len(small))\n",
    "index = 0\n",
    "for region_name, region_group in gk:\n",
    "    sns.lineplot(\n",
    "        x=x[index : index + len(region_group)],\n",
    "        y=region_group.order_frequency,\n",
    "        color=COLORS.get(region_name),\n",
    "    )\n",
    "    index += len(region_group)\n",
    "plt.show()"
   ]
  },
  {
   "cell_type": "markdown",
   "id": "d48d8bb2",
   "metadata": {},
   "source": [
    "# 16.3 Finding the relation between Region and Prices"
   ]
  },
  {
   "cell_type": "code",
   "execution_count": 68,
   "id": "878078fb",
   "metadata": {},
   "outputs": [],
   "source": [
    "ct_region_price = pd.crosstab(orders_products_together['region'], orders_products_together['price_range'], dropna = False)"
   ]
  },
  {
   "cell_type": "code",
   "execution_count": 69,
   "id": "fd10eee5",
   "metadata": {},
   "outputs": [],
   "source": [
    "ct_region_price.to_clipboard()"
   ]
  },
  {
   "cell_type": "markdown",
   "id": "b3fe9205",
   "metadata": {},
   "source": [
    "# 17 relationship between Loyalty and Spending"
   ]
  },
  {
   "cell_type": "code",
   "execution_count": 70,
   "id": "03e121d9",
   "metadata": {},
   "outputs": [],
   "source": [
    "ct_loyalty_spending = pd.crosstab(orders_products_together['loyalty_flag'], orders_products_together['spender_flag'], dropna=False)"
   ]
  },
  {
   "cell_type": "code",
   "execution_count": 71,
   "id": "782c2c9f",
   "metadata": {},
   "outputs": [
    {
     "data": {
      "image/png": "[encoded data removed]",
      "text/plain": [
       "<Figure size 432x288 with 1 Axes>"
      ]
     },
     "metadata": {
      "needs_background": "light"
     },
     "output_type": "display_data"
    }
   ],
   "source": [
    "loyal_spend_bar = ct_loyalty_spending.plot(kind='bar', stacked=True, title=\"Spending behaviour and customer loyalty\")"
   ]
  },
  {
   "cell_type": "code",
   "execution_count": 72,
   "id": "c0aa3286",
   "metadata": {},
   "outputs": [],
   "source": [
    "ct_loyalty_spending.to_clipboard()"
   ]
  },
  {
   "cell_type": "code",
   "execution_count": null,
   "id": "bc47d422",
   "metadata": {},
   "outputs": [],
   "source": []
  },
  {
   "cell_type": "code",
   "execution_count": null,
   "id": "ef6a306e",
   "metadata": {},
   "outputs": [],
   "source": []
  }
 ],
 "metadata": {
  "kernelspec": {
   "display_name": "Python 3 (ipykernel)",
   "language": "python",
   "name": "python3"
  },
  "language_info": {
   "codemirror_mode": {
    "name": "ipython",
    "version": 3
   },
   "file_extension": ".py",
   "mimetype": "text/x-python",
   "name": "python",
   "nbconvert_exporter": "python",
   "pygments_lexer": "ipython3",
   "version": "3.9.7"
  }
 },
 "nbformat": 4,
 "nbformat_minor": 5
}
