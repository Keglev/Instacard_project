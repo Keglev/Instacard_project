{
 "cells": [
  {
   "cell_type": "markdown",
   "id": "b3437fd9",
   "metadata": {},
   "source": [
    "# 0.1 Importing Libraries"
   ]
  },
  {
   "cell_type": "code",
   "execution_count": null,
   "id": "effc5cf0",
   "metadata": {},
   "outputs": [],
   "source": [
    "# Import libraries\n",
    "import pandas as pd\n",
    "import numpy as np\n",
    "import os"
   ]
  },
  {
   "cell_type": "markdown",
   "id": "0ad1be04",
   "metadata": {},
   "source": [
    "# 0.2 Data Types"
   ]
  },
  {
   "cell_type": "code",
   "execution_count": 1,
   "id": "3a28c34a",
   "metadata": {},
   "outputs": [],
   "source": [
    "# 1 Result of 100\n",
    "x = (10*10)"
   ]
  },
  {
   "cell_type": "code",
   "execution_count": 2,
   "id": "9d0ac164",
   "metadata": {},
   "outputs": [
    {
     "data": {
      "text/plain": [
       "100"
      ]
     },
     "execution_count": 2,
     "metadata": {},
     "output_type": "execute_result"
    }
   ],
   "source": [
    "x"
   ]
  },
  {
   "cell_type": "code",
   "execution_count": 5,
   "id": "6341453c",
   "metadata": {},
   "outputs": [],
   "source": [
    "# 2 result of 100\n",
    "y = (90 + 10)"
   ]
  },
  {
   "cell_type": "code",
   "execution_count": 6,
   "id": "77dd8b2a",
   "metadata": {},
   "outputs": [
    {
     "data": {
      "text/plain": [
       "100"
      ]
     },
     "execution_count": 6,
     "metadata": {},
     "output_type": "execute_result"
    }
   ],
   "source": [
    "y"
   ]
  },
  {
   "cell_type": "code",
   "execution_count": 7,
   "id": "d6329ce1",
   "metadata": {},
   "outputs": [],
   "source": [
    "# 3 result of 100\n",
    "c = (600 - 500)"
   ]
  },
  {
   "cell_type": "code",
   "execution_count": 8,
   "id": "1cde0471",
   "metadata": {},
   "outputs": [
    {
     "data": {
      "text/plain": [
       "100"
      ]
     },
     "execution_count": 8,
     "metadata": {},
     "output_type": "execute_result"
    }
   ],
   "source": [
    "c"
   ]
  },
  {
   "cell_type": "code",
   "execution_count": 9,
   "id": "0966af8e",
   "metadata": {},
   "outputs": [],
   "source": [
    "# Floating Point variables and divide for each other\n",
    "a = (4.56)\n",
    "b = (8.75)\n",
    "z = (b/a)"
   ]
  },
  {
   "cell_type": "code",
   "execution_count": 10,
   "id": "b04f57c1",
   "metadata": {},
   "outputs": [
    {
     "data": {
      "text/plain": [
       "1.9188596491228072"
      ]
     },
     "execution_count": 10,
     "metadata": {},
     "output_type": "execute_result"
    }
   ],
   "source": [
    "z"
   ]
  },
  {
   "cell_type": "code",
   "execution_count": 11,
   "id": "91cf4b3c",
   "metadata": {},
   "outputs": [],
   "source": [
    "# summing up three strings variables to make a complete word string\n",
    "g = 'Le'\n",
    "h = 'ar'\n",
    "i = 'ning'\n",
    "k = g+h+i"
   ]
  },
  {
   "cell_type": "code",
   "execution_count": 12,
   "id": "c4f3fd47",
   "metadata": {},
   "outputs": [
    {
     "data": {
      "text/plain": [
       "'Learning'"
      ]
     },
     "execution_count": 12,
     "metadata": {},
     "output_type": "execute_result"
    }
   ],
   "source": [
    "k"
   ]
  },
  {
   "cell_type": "code",
   "execution_count": 15,
   "id": "70904abc",
   "metadata": {},
   "outputs": [],
   "source": [
    "# First sentence made of a string\n",
    "q = 'Hello '\n",
    "w = 'World'\n",
    "r = q+w"
   ]
  },
  {
   "cell_type": "code",
   "execution_count": 16,
   "id": "bfe69b5b",
   "metadata": {},
   "outputs": [
    {
     "data": {
      "text/plain": [
       "'Hello World'"
      ]
     },
     "execution_count": 16,
     "metadata": {},
     "output_type": "execute_result"
    }
   ],
   "source": [
    "r"
   ]
  },
  {
   "cell_type": "code",
   "execution_count": 17,
   "id": "f7ddc34d",
   "metadata": {},
   "outputs": [],
   "source": [
    "# Second sentence of a string\n",
    "Q = 'I am '\n",
    "W = 'learning '\n",
    "E = 'PYthon'\n",
    "R = Q+W+E"
   ]
  },
  {
   "cell_type": "code",
   "execution_count": 18,
   "id": "dc18311c",
   "metadata": {},
   "outputs": [
    {
     "data": {
      "text/plain": [
       "'I am learning PYthon'"
      ]
     },
     "execution_count": 18,
     "metadata": {},
     "output_type": "execute_result"
    }
   ],
   "source": [
    "R"
   ]
  },
  {
   "cell_type": "code",
   "execution_count": null,
   "id": "7f4150fe",
   "metadata": {},
   "outputs": [],
   "source": []
  },
  {
   "cell_type": "code",
   "execution_count": null,
   "id": "170bffe5",
   "metadata": {},
   "outputs": [],
   "source": []
  }
 ],
 "metadata": {
  "kernelspec": {
   "display_name": "Python 3 (ipykernel)",
   "language": "python",
   "name": "python3"
  },
  "language_info": {
   "codemirror_mode": {
    "name": "ipython",
    "version": 3
   },
   "file_extension": ".py",
   "mimetype": "text/x-python",
   "name": "python",
   "nbconvert_exporter": "python",
   "pygments_lexer": "ipython3",
   "version": "3.9.7"
  }
 },
 "nbformat": 4,
 "nbformat_minor": 5
}
