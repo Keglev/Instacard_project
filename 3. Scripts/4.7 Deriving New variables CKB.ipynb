{
 "cells": [
  {
   "cell_type": "markdown",
   "id": "3f00fe75",
   "metadata": {},
   "source": [
    "# 01 Importing Libraries"
   ]
  },
  {
   "cell_type": "code",
   "execution_count": 1,
   "id": "ff8c9c0c",
   "metadata": {},
   "outputs": [],
   "source": [
    "#Import libraries\n",
    "import pandas as pd\n",
    "import numpy as np\n",
    "import os"
   ]
  },
  {
   "cell_type": "markdown",
   "id": "523f1208",
   "metadata": {},
   "source": [
    "# 02 Importing Data"
   ]
  },
  {
   "cell_type": "code",
   "execution_count": 2,
   "id": "2289a788",
   "metadata": {},
   "outputs": [],
   "source": [
    "#Define path\n",
    "path = r'C:\\Users\\carlo\\21-06-2022 Instacart Basket Analysis'"
   ]
  },
  {
   "cell_type": "code",
   "execution_count": 3,
   "id": "cdba3573",
   "metadata": {},
   "outputs": [],
   "source": [
    "#Import data\n",
    "df_orders_products_merged = pd.read_pickle(os.path.join(path, '2. Data', 'Prepared Data', 'orders_products_merged.pkl'))"
   ]
  },
  {
   "cell_type": "markdown",
   "id": "07be22be",
   "metadata": {},
   "source": [
    "# 03 Creating price label with loc () function"
   ]
  },
  {
   "cell_type": "code",
   "execution_count": 4,
   "id": "62a30089",
   "metadata": {},
   "outputs": [],
   "source": [
    "df_orders_products_merged.loc[df_orders_products_merged['prices'] > 15, 'price_range'] = 'High-range product'"
   ]
  },
  {
   "cell_type": "code",
   "execution_count": 5,
   "id": "a48a6173",
   "metadata": {},
   "outputs": [],
   "source": [
    "df_orders_products_merged.loc[(df_orders_products_merged['prices'] <= 15) & (df_orders_products_merged['prices'] > 5), 'price_range'] = 'Mid-range product' "
   ]
  },
  {
   "cell_type": "code",
   "execution_count": 6,
   "id": "a80edb2a",
   "metadata": {},
   "outputs": [],
   "source": [
    "df_orders_products_merged.loc[df_orders_products_merged['prices'] <= 5, 'price_range'] = 'Low-range product'"
   ]
  },
  {
   "cell_type": "code",
   "execution_count": 7,
   "id": "c9e36eb8",
   "metadata": {},
   "outputs": [
    {
     "data": {
      "text/plain": [
       "Mid-range product     21860860\n",
       "Low-range product     10126321\n",
       "High-range product      412551\n",
       "NaN                       5127\n",
       "Name: price_range, dtype: int64"
      ]
     },
     "execution_count": 7,
     "metadata": {},
     "output_type": "execute_result"
    }
   ],
   "source": [
    "df_orders_products_merged['price_range'].value_counts(dropna = False)"
   ]
  },
  {
   "cell_type": "markdown",
   "id": "a38cf6ae",
   "metadata": {},
   "source": [
    "# 04 Loop to find the busiest day of the week"
   ]
  },
  {
   "cell_type": "code",
   "execution_count": 8,
   "id": "a534ceec",
   "metadata": {},
   "outputs": [
    {
     "data": {
      "text/plain": [
       "0    6204182\n",
       "1    5660230\n",
       "6    4496490\n",
       "2    4213830\n",
       "5    4205791\n",
       "3    3840534\n",
       "4    3783802\n",
       "Name: orders_day_of_week, dtype: int64"
      ]
     },
     "execution_count": 8,
     "metadata": {},
     "output_type": "execute_result"
    }
   ],
   "source": [
    "#Frequency of days of the week\n",
    "df_orders_products_merged['orders_day_of_week'].value_counts(dropna = False)"
   ]
  },
  {
   "cell_type": "code",
   "execution_count": 9,
   "id": "5e64c36d",
   "metadata": {},
   "outputs": [],
   "source": [
    "#Creating loop\n",
    "result = []\n",
    "\n",
    "for value in df_orders_products_merged[\"orders_day_of_week\"]:\n",
    "  if value == 0:\n",
    "    result.append(\"Busiest day\")\n",
    "  elif value == 4:\n",
    "    result.append(\"Least busy\")\n",
    "  else:\n",
    "    result.append(\"Regularly busy\")"
   ]
  },
  {
   "cell_type": "code",
   "execution_count": 10,
   "id": "75efbafd",
   "metadata": {},
   "outputs": [],
   "source": [
    "df_orders_products_merged['busiest_day'] = result"
   ]
  },
  {
   "cell_type": "code",
   "execution_count": 11,
   "id": "60b12087",
   "metadata": {},
   "outputs": [
    {
     "data": {
      "text/plain": [
       "Regularly busy    22416875\n",
       "Busiest day        6204182\n",
       "Least busy         3783802\n",
       "Name: busiest_day, dtype: int64"
      ]
     },
     "execution_count": 11,
     "metadata": {},
     "output_type": "execute_result"
    }
   ],
   "source": [
    "df_orders_products_merged['busiest_day'].value_counts(dropna = False)"
   ]
  },
  {
   "cell_type": "markdown",
   "id": "cb65858b",
   "metadata": {},
   "source": [
    "# 05 Loop to find Busiest days"
   ]
  },
  {
   "cell_type": "code",
   "execution_count": 12,
   "id": "12e0ad71",
   "metadata": {},
   "outputs": [],
   "source": [
    "#Creating loop2\n",
    "result2 = []\n",
    "\n",
    "for value in df_orders_products_merged[\"orders_day_of_week\"]:\n",
    "  if value <= 1:\n",
    "    result2.append(\"Busiest days\")\n",
    "  elif value >= 3 and value <= 4:\n",
    "    result2.append(\"Least busy days\")\n",
    "  else:\n",
    "    result2.append(\"Regularly busy\")"
   ]
  },
  {
   "cell_type": "code",
   "execution_count": 13,
   "id": "673ef255",
   "metadata": {},
   "outputs": [],
   "source": [
    "df_orders_products_merged['busiest_days'] = result2"
   ]
  },
  {
   "cell_type": "code",
   "execution_count": 14,
   "id": "fdcf0e43",
   "metadata": {},
   "outputs": [
    {
     "data": {
      "text/plain": [
       "Regularly busy     12916111\n",
       "Busiest days       11864412\n",
       "Least busy days     7624336\n",
       "Name: busiest_days, dtype: int64"
      ]
     },
     "execution_count": 14,
     "metadata": {},
     "output_type": "execute_result"
    }
   ],
   "source": [
    "df_orders_products_merged['busiest_days'].value_counts(dropna = False)"
   ]
  },
  {
   "cell_type": "code",
   "execution_count": 15,
   "id": "4422ef0d",
   "metadata": {},
   "outputs": [
    {
     "name": "stdout",
     "output_type": "stream",
     "text": [
      "11864412\n"
     ]
    }
   ],
   "source": [
    "#Accuracy checks - busiest days\n",
    "print(6204182 + 5660230)"
   ]
  },
  {
   "cell_type": "code",
   "execution_count": 16,
   "id": "a39a8a88",
   "metadata": {},
   "outputs": [
    {
     "name": "stdout",
     "output_type": "stream",
     "text": [
      "7624336\n"
     ]
    }
   ],
   "source": [
    "#Accuracy checks - least busy days\n",
    "print(3840534+3783802)"
   ]
  },
  {
   "cell_type": "markdown",
   "id": "8f22cf01",
   "metadata": {},
   "source": [
    "# 06 Loop to find the busiest time of the day"
   ]
  },
  {
   "cell_type": "code",
   "execution_count": 17,
   "id": "00aadc95",
   "metadata": {},
   "outputs": [
    {
     "data": {
      "text/plain": [
       "10    2761760\n",
       "11    2736140\n",
       "14    2689136\n",
       "15    2662144\n",
       "13    2660954\n",
       "12    2618532\n",
       "16    2535202\n",
       "9     2454203\n",
       "17    2087654\n",
       "8     1718118\n",
       "18    1636502\n",
       "19    1258305\n",
       "20     976156\n",
       "7      891054\n",
       "21     795637\n",
       "22     634225\n",
       "23     402316\n",
       "6      290493\n",
       "0      218769\n",
       "1      115700\n",
       "5       87961\n",
       "2       69375\n",
       "4       53242\n",
       "3       51281\n",
       "Name: order_hour_of_day, dtype: int64"
      ]
     },
     "execution_count": 17,
     "metadata": {},
     "output_type": "execute_result"
    }
   ],
   "source": [
    "#Frequency of days of the week\n",
    "df_orders_products_merged['order_hour_of_day'].value_counts(dropna = False)"
   ]
  },
  {
   "cell_type": "code",
   "execution_count": 18,
   "id": "7fec0474",
   "metadata": {},
   "outputs": [],
   "source": [
    "#Creating loop3\n",
    "result3 = []\n",
    "\n",
    "for value in df_orders_products_merged[\"order_hour_of_day\"]:\n",
    "  if value >= 9 and value <= 16:\n",
    "    result3.append(\"Most orders\")\n",
    "  elif value >= 0 and value <=6:\n",
    "    result3.append(\"Fewest orders\")\n",
    "  else:\n",
    "    result3.append(\"Average orders\")"
   ]
  },
  {
   "cell_type": "code",
   "execution_count": 19,
   "id": "8a048f2c",
   "metadata": {},
   "outputs": [],
   "source": [
    "df_orders_products_merged['busiest_period_of_day'] = result3"
   ]
  },
  {
   "cell_type": "code",
   "execution_count": 20,
   "id": "cfdfd82b",
   "metadata": {},
   "outputs": [
    {
     "data": {
      "text/plain": [
       "Most orders       21118071\n",
       "Average orders    10399967\n",
       "Fewest orders       886821\n",
       "Name: busiest_period_of_day, dtype: int64"
      ]
     },
     "execution_count": 20,
     "metadata": {},
     "output_type": "execute_result"
    }
   ],
   "source": [
    "df_orders_products_merged['busiest_period_of_day'].value_counts(dropna = False)"
   ]
  },
  {
   "cell_type": "code",
   "execution_count": 21,
   "id": "6e91dc9c",
   "metadata": {},
   "outputs": [],
   "source": [
    "#Export data frame\n",
    "df_orders_products_merged.to_pickle(os.path.join(path, '2. Data','Prepared Data', 'orders_products_altered.pkl'))"
   ]
  },
  {
   "cell_type": "code",
   "execution_count": null,
   "id": "27334ca0",
   "metadata": {},
   "outputs": [],
   "source": []
  },
  {
   "cell_type": "code",
   "execution_count": null,
   "id": "3834094c",
   "metadata": {},
   "outputs": [],
   "source": []
  },
  {
   "cell_type": "code",
   "execution_count": null,
   "id": "efda7f75",
   "metadata": {},
   "outputs": [],
   "source": []
  },
  {
   "cell_type": "code",
   "execution_count": null,
   "id": "6181ce32",
   "metadata": {},
   "outputs": [],
   "source": []
  },
  {
   "cell_type": "code",
   "execution_count": null,
   "id": "b5597f18",
   "metadata": {},
   "outputs": [],
   "source": []
  },
  {
   "cell_type": "code",
   "execution_count": null,
   "id": "4c5844d4",
   "metadata": {},
   "outputs": [],
   "source": []
  },
  {
   "cell_type": "code",
   "execution_count": null,
   "id": "28a9e1fd",
   "metadata": {},
   "outputs": [],
   "source": []
  },
  {
   "cell_type": "code",
   "execution_count": null,
   "id": "2ec41292",
   "metadata": {},
   "outputs": [],
   "source": []
  },
  {
   "cell_type": "code",
   "execution_count": null,
   "id": "014f9d18",
   "metadata": {},
   "outputs": [],
   "source": []
  }
 ],
 "metadata": {
  "kernelspec": {
   "display_name": "Python 3 (ipykernel)",
   "language": "python",
   "name": "python3"
  },
  "language_info": {
   "codemirror_mode": {
    "name": "ipython",
    "version": 3
   },
   "file_extension": ".py",
   "mimetype": "text/x-python",
   "name": "python",
   "nbconvert_exporter": "python",
   "pygments_lexer": "ipython3",
   "version": "3.9.7"
  }
 },
 "nbformat": 4,
 "nbformat_minor": 5
}
